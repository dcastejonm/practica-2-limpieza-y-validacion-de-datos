{
 "cells": [
  {
   "cell_type": "markdown",
   "metadata": {},
   "source": [
    " Autor:  Diego Castejón Molina\n",
    "\n",
    "\n",
    "\n",
    "# Descripción del Dataset\n",
    "\n",
    "El Dataset elegido para la práctica 2 consiste en los datos de calidad del aire de la ciudad de Madrid, que se encuentran publicados por en la página web del Ayuntamiento de Madrid. En particular, se analizan los datos medios diarios para los años 2011 a 2018, que se pueden consultar en la siguiente [dirección web](https://datos.madrid.es/portal/site/egob/menuitem.c05c1f754a33a9fbe4b2e4b284f1a5a0/?vgnextoid=aecb88a7e2b73410VgnVCM2000000c205a0aRCRD&vgnextchannel=374512b9ace9f310VgnVCM100000171f5a0aRCRD&vgnextfmt=default). Haciendo clic en el link anterior, se accede a un repositorio desde el que se pueden descargar los dataset para las medidas recogidas durante los años 2001 a 2018.\n",
    "\n",
    "Aprovechando que en 2011 entró en vigor un [Plan de Calidad de Aire de Madrid](http://www.mambiente.munimadrid.es/opencms/export/sites/default/calaire/Anexos/Plan_2011_15.pdf), y que no ha sido reemplazado hasta finales de 2018 por el [nuevo Plan de Calidad del Aire](https://www.madrid.es/UnidadesDescentralizadas/Sostenibilidad/CalidadAire/Ficheros/PlanAireyCC_092017.pdf) parece razonable evaluar si el plan antiguo de la ciudad fue eficaz en la reducción de emisiones nocivas para salud entre los años 2011 y 2018. Para ello se podría comprobar entre qué años la reducción (o aumento) de las emisiones fue estadísticamente significativa y para cuales no, intentando determinar si el comportamiento de los diferentes gases es análogo. Por contra, no parece indicado tratar de obtener regresiones que pretenden predecir el comportamiento futuro debido a que el nuevo Plan de Calidad de Aire es más ambicioso que el anterior y la tendencia que pueda determinarse con una regresión no estaría teniendo en cuenta los cambios que se han introducido a partir de 2018.\n",
    "\n",
    "Los dataset de calidad del aire que se pueden descargar desde la web del Ayuntamiento de Madrid compartida en el primer párrafo se encuentra en formato .txt los anteriores a 2017, y en formato csv los posteriores. Los datos anteriores a 2017 presentan cada registro como una fila de caracteres en la que cada determinado número corresponden con una columna distinta: los primeros ocho se refieren a la estación de medida, los siguientes dos a la magnitud medida (el gas contaminante) los siguientes a la técnica de medida, etc. Para realizar la correcta asignación de los datos se utiliza el [documento](https://datos.madrid.es/FWProjects/egob/Catalogo/MedioAmbiente/Aire/Ficheros/Interprete_ficheros_%20calidad_%20del_%20aire_global.pdf) que proporciona el Ayuntamiento de Madrid a efecto de interepretar correctamente los campos. Para los datos de 2017 y 2018 los campos ya vienen identificados y no es necesario el uso del documento a tal efecto.\n",
    "\n",
    "A continuación se presentan los campos que contienen los Dataset. Existen ligeras diferencias en la forma en la que la información se ha ordenado entre los dataset de 2017 y 2018 respecto a los anteriores, aunque contienen la misma información:\n",
    "\n",
    "- **Estación:** Código que identifica a la estación de medida.\n",
    "- **Magnitud:** Código que identifica el gas contaminante medido.\n",
    "- **Técnica:** Código que identifica la técnica utilizada para medir la concentración de cada gas.\n",
    "- **Punto Muestreo:** Este atributo combina en una sola columna los tres registros anteriores (Estación, Magnitud y Técnica) para los registros de 2017 y 2018. En los registros anteriores no existe. La forma de combinar los datos anteriores es Estacion_Magnitud_tecnica.\n",
    "- **Dato diario:** Código, presente sólo en los registros anteriores a 2017, que especifica si el dato es diario (04) y horario (02). En este caso, todos son diarios, por lo que no aporta información.\n",
    "- **Año:** Identifica el año en el que se hizo la medida.\n",
    "- **Mes:** Identifica el mes en el que se realizó la medida.\n",
    "- **Día n:** Una columna para cada día del mes (1-31) con cada valor de medido. Para los meses que no tienen 31 días, puede haber ceros, Nan, u otro valor no identificado. En los registro anteriores a 2017, cada valor viene acompañado de V o N (valor válido-V o no válido-N). En los registros de 2017 en adelante, hay una columna aparte de contiene la información de V o N.\n",
    "- **Provincia:** Presente sólo en los datos de 2017 en adelante, código que identifica la provincia en la que se tomaron los datos. No aporta información,todos los son de Madrid.\n",
    "- **Municipio:** Presente sólo en los datos de 2017 en adelante, código que identifica el municipio en la que se tomaron los datos. No aporta información,todos los son de Madrid.\n",
    "- **Validación:** Presente como columnas independientes solo en los datos de 2017 en adelante, al lado de la columna correspondiente a cada día. Contiene V si el valor diario es válido y N si no lo es.\n",
    "\n",
    "Como puede verse, los datos no se presentan de una forma que permita trabajar facilmente con ellos, además de que no se presentan en el mismo formato. Es por ello que un trabajo de integración y limpieza es necesario como paso previo para realizar un análisis que permita determinar si el Plan de Calidad del Aire que se implantó en el año 2011 sirvió para reducir la emisiones de gases nocivos para la salud y en qué medida se redujeron (o aumentaron) las emisiones.\n",
    "\n",
    "\n",
    "# Integración y selección de los datos de interés a analizar\n",
    "\n",
    "Como paso previo a la selección de los datos de interés, parece razonable integrar los ocho Dataset que se han descargado en un único Dataset, de forma que los datos se encuentren en un mismo formato y con los campos estructurados de forma que sea sencillo trabajar con ellos.\n",
    "\n",
    "Como primer paso, se cargan todos los datos, juntando en un mismo Dataset aquellos que presentan la misma estructura."
   ]
  },
  {
   "cell_type": "code",
   "execution_count": 1,
   "metadata": {},
   "outputs": [],
   "source": [
    "# Importamos la libreria pandas, que utilizaremos para hacer la mayor parte \n",
    "# de las tareas.\n",
    "\n",
    "import pandas as pd\n",
    "\n",
    "# Comenzamos leyendos los archivos:\n",
    "\n",
    "# Hay dos tipos de archivos, los de 2017 y 2018 y los anteriores a 2017.\n",
    "\n",
    "# Nuevos:\n",
    "\n",
    "datos18 = pd.read_csv(\".\\datos\\datos201810.CSV\", sep = \";\")\n",
    "\n",
    "datos17 = pd.read_csv(\".\\datos\\datos17.csv\", sep = \";\")\n",
    "\n",
    "datosn = pd.concat([datos18,datos17])\n",
    "\n",
    "# Viejos:\n",
    "\n",
    "datos11 = pd.read_csv(\".\\datos\\datos11.txt\", header = None)\n",
    "\n",
    "datos12 = pd.read_csv(\".\\datos\\datos12.txt\", header = None)\n",
    "\n",
    "datos13 = pd.read_csv(\".\\datos\\datos13.txt\", header = None)\n",
    "\n",
    "datos14 = pd.read_csv(\".\\datos\\datos14.txt\", header = None)\n",
    "\n",
    "datos15 = pd.read_csv(\".\\datos\\datos15.txt\", header = None)\n",
    "\n",
    "datos16 = pd.read_csv(\".\\datos\\datos201612.txt\", header = None)\n",
    "\n",
    "datosv = pd.concat([datos11,datos12,datos13,datos14,datos15,datos16])"
   ]
  },
  {
   "cell_type": "markdown",
   "metadata": {},
   "source": [
    "De este modo, ya hemos reducido de ocho a dos el número de Datasets que estamos manejando. El siguiente paso consiste en trabajar con los datos viejos, que como se ha comentado anteriormente, no tiene los campos separados:"
   ]
  },
  {
   "cell_type": "code",
   "execution_count": 2,
   "metadata": {},
   "outputs": [
    {
     "name": "stdout",
     "output_type": "stream",
     "text": [
      "                                                   0\n",
      "0  28079004013804110100008V00009V00009V00006V0000...\n",
      "1  28079004013804110200011V00016V00017V00016V0001...\n",
      "2  28079004013804110300008V00009V00009V00007V0000...\n",
      "3  28079004013804110400009V00009V00008V00007V0000...\n",
      "4  28079004013804110500006V00006V00006V00007V0000...\n"
     ]
    }
   ],
   "source": [
    "# Como se puede ver, los datos anteriores a 2017 recogen toda la información \n",
    "# de cada registro en un largo string:\n",
    "\n",
    "print(datosv.head())"
   ]
  },
  {
   "cell_type": "markdown",
   "metadata": {},
   "source": [
    "Por tanto, y mediante el [documento](https://datos.madrid.es/FWProjects/egob/Catalogo/MedioAmbiente/Aire/Ficheros/Interprete_ficheros_%20calidad_%20del_%20aire_global.pdf) intérprete, tenemos que separar los caracteres en campos. De igual manera, no parece razonable tener un campo para cada día, parece más razonable reducir esos 31 campos a 2 (Día y Medida). Además, también resulta razonable separar de la medida la parte de validación (V/N). Finalmente, los campos Técnica y Tipo dato no aportan información útil para el análisis que se quiere hacer, por lo que parece razonable no tomar dichos campos. Y esto se realiza con el código siguiente:"
   ]
  },
  {
   "cell_type": "code",
   "execution_count": 3,
   "metadata": {},
   "outputs": [
    {
     "name": "stdout",
     "output_type": "stream",
     "text": [
      "   Estación Magnitud Año Mes Día  Medida Validacion\n",
      "0  28079004       01  11  01   1     8.0          V\n",
      "1  28079004       01  11  02   1    11.0          V\n",
      "2  28079004       01  11  03   1     8.0          V\n",
      "3  28079004       01  11  04   1     9.0          V\n",
      "4  28079004       01  11  05   1     6.0          V\n"
     ]
    }
   ],
   "source": [
    "# Pasemos primero los viejos a un formato que se pueda entender minimamente:\n",
    "# Comenzamos a separar los campos:\n",
    "\n",
    "datosvn = pd.DataFrame()\n",
    "\n",
    "# Los campos \"descriptivos\"\n",
    "\n",
    "datosvn['Estación'] = datosv[0].astype(str).str[:8]\n",
    "\n",
    "datosvn['Magnitud'] = datosv[0].astype(str).str[8:10]\n",
    "\n",
    "datosvn['Técnica'] = datosv[0].astype(str).str[10:12]\n",
    "\n",
    "datosvn['Tipo dato'] = datosv[0].astype(str).str[12:14]\n",
    "\n",
    "datosvn['Año'] = datosv[0].astype(str).str[14:16]\n",
    "\n",
    "datosvn['Mes'] = datosv[0].astype(str).str[16:18]\n",
    "\n",
    "# Y los de los valores:\n",
    "\n",
    "for i in range(1,32):\n",
    "    texto = str(i)\n",
    "    a = 18 + (i-1)*6\n",
    "    b = 18 + (i)*6\n",
    "    datosvn[texto] = datosv[0].astype(str).str[a:b]\n",
    "    \n",
    "# Ahora vamos a transponer columnas y filas. Es mucho más cómodo tener una \n",
    "# columna que sea día y otra que sea valor en \n",
    "# vez de 31 columnas.\n",
    "\n",
    "datosvn = datosvn.melt(id_vars=[\"Estación\",\"Magnitud\",\"Técnica\",\"Tipo dato\",\n",
    "                                \"Año\",\"Mes\"],var_name = \"Día\", \n",
    "                       value_name = \"Medida\")\n",
    "\n",
    "# Separamos la última columna en dos, (Medida y validación)\n",
    "\n",
    "datosvn[\"Validacion\"] = datosvn[\"Medida\"].str[-1:]\n",
    "datosvn[\"Medida\"] = datosvn[\"Medida\"].str[:-1]\n",
    "datosvn[\"Medida\"] = datosvn[\"Medida\"].astype(float)\n",
    "\n",
    "# Y elegimos los campos que queremos conservar:\n",
    "\n",
    "datosvn = datosvn[[\"Estación\", \"Magnitud\", \"Año\", \"Mes\", \"Día\", \"Medida\", \n",
    "                   \"Validacion\"]]\n",
    "\n",
    "# Y podemos ver un Dataset algo más ordenado:\n",
    "\n",
    "print(datosvn.head())"
   ]
  },
  {
   "cell_type": "markdown",
   "metadata": {},
   "source": [
    "Ahora toca realizar cambios análogos a los realizados anteriormente con el set que contiene los datos de 2017 y 2018. En este caso, además de los cambios señalados anteriormente, parece razonable también dejar caer los campos Provincia y Municipio, pues no aportan ningún tipo de información adicional. El código que se utiliza es el siguiente:"
   ]
  },
  {
   "cell_type": "code",
   "execution_count": 4,
   "metadata": {},
   "outputs": [
    {
     "name": "stdout",
     "output_type": "stream",
     "text": [
      "   Estación Magnitud   Año  Mes Día  Medida Validacion\n",
      "0  28079004        1  2018    1  01     1.0          V\n",
      "1  28079004        1  2018    2  01     5.0          V\n",
      "2  28079004        1  2018    3  01     1.0          V\n",
      "3  28079004        1  2018    4  01     2.0          V\n",
      "4  28079004        1  2018    5  01     2.0          V\n"
     ]
    }
   ],
   "source": [
    "# Ahora vamos a colocar en el mismo formato los datos de los años 2017 y \n",
    "# 2018\n",
    "\n",
    "# Primero vamos a realizar la trasposición de las columnas de dias y \n",
    "# validación:\n",
    "\n",
    "datosn1 = datosn[[\"PUNTO_MUESTREO\",\"ANO\",\"MES\",\"D01\",\"D02\",\"D03\",\"D04\",\n",
    "                  \"D05\",\"D06\",\"D07\",\"D08\",\"D09\",\"D10\",\"D11\",\"D12\",\n",
    "                 \"D13\",\"D14\",\"D15\",\"D16\",\"D17\",\"D18\",\"D19\",\"D20\",\n",
    "                 \"D21\",\"D22\",\"D23\",\"D24\",\"D25\",\"D26\",\"D27\",\"D28\",\n",
    "                  \"D29\",\"D30\",\"D31\"]]\n",
    "\n",
    "datosn2 = datosn[[\"PUNTO_MUESTREO\",\"ANO\",\"MES\",\"V01\",\"V02\",\"V03\",\"V04\",\n",
    "                  \"V05\",\"V06\",\"V07\",\"V08\",\"V09\",\"V10\",\"V11\",\"V12\",\"V13\"\n",
    "                 ,\"V14\",\"V15\",\"V16\",\"V17\",\"V18\",\"V19\",\"V20\",\n",
    "                 \"V21\",\"V22\",\"V23\",\"V24\",\"V25\",\"V26\",\"V27\",\"V28\",\n",
    "                  \"V29\",\"V30\",\"V31\"]]\n",
    "\n",
    "# Hacemos la transposición por separado\n",
    "\n",
    "datosn1 = datosn1.melt(id_vars = [\"PUNTO_MUESTREO\",\"ANO\",\"MES\"],\n",
    "                       var_name = \"Día\", value_name = \"Medida\")\n",
    "\n",
    "datosn2 = datosn2.melt(id_vars = [\"PUNTO_MUESTREO\",\"ANO\",\"MES\"],\n",
    "                       var_name = \"Día\", value_name = \"Validacion\")\n",
    "\n",
    "datosn1[\"Día\"] = datosn1[\"Día\"].str.replace(\"D\",\"\")\n",
    "\n",
    "datosn2[\"Día\"] = datosn1[\"Día\"].str.replace(\"V\",\"\")\n",
    "\n",
    "# Pero luego unimos\n",
    "\n",
    "datosn = datosn1.merge(datosn2, on = [\"PUNTO_MUESTREO\",\"ANO\",\"MES\", \"Día\"])\n",
    "\n",
    "# Ahora separamos el campo punto de muestreo en sus tres partes:\n",
    "\n",
    "datosn[\"Estación\"] = datosn[\"PUNTO_MUESTREO\"].str.split(\"_\", expand = True)[0]\n",
    "datosn[\"Magnitud\"] = datosn[\"PUNTO_MUESTREO\"].str.split(\"_\", expand = True)[1]\n",
    "datosn[\"Técnica\"] = datosn[\"PUNTO_MUESTREO\"].str.split(\"_\", expand = True)[2]\n",
    "\n",
    "# Seleccionamos las columnas con las que queremos trabajar:\n",
    "\n",
    "datosn = datosn[[\"Estación\", \"Magnitud\", \"ANO\", \"MES\", \"Día\", \"Medida\", \n",
    "                 \"Validacion\"]]\n",
    "\n",
    "# Cambiamos los nombres de las columnas para que coincidan con los del \n",
    "# conjunto \"viejo\"\n",
    "\n",
    "datosn.columns = [\"Estación\", \"Magnitud\", \"Año\", \"Mes\", \"Día\", \"Medida\", \n",
    "                  \"Validacion\"]\n",
    "\n",
    "# Y tenemos un Dataset con una estructura idéntica al anterior:\n",
    "\n",
    "print(datosn.head())"
   ]
  },
  {
   "cell_type": "markdown",
   "metadata": {},
   "source": [
    "Al tener ambos Dataset la misma estructura, podemos unirlos en uno solo, que será el que se utilizará de ahora en adelante para realizar la todas las transformaciones de limpieza y el posterior análisis a lo largo de la práctica."
   ]
  },
  {
   "cell_type": "code",
   "execution_count": 5,
   "metadata": {},
   "outputs": [],
   "source": [
    "# Ahora que tenemos todos los datos en un formato similar, podemos \n",
    "# unirlos en un único DataFrame \n",
    "\n",
    "datos = pd.concat([datosn,datosvn])"
   ]
  },
  {
   "cell_type": "markdown",
   "metadata": {},
   "source": [
    "No obstante, parece razonable preguntarnos si para el análisis necesitamos toda la información que hemos introducido en dicho Dataset. ¿Si queremos analizar si el Plan ha sido eficaz es necesario analizar los 17 gases con efecto sobre la salud de los que el Ayuntamiento toma registros?"
   ]
  },
  {
   "cell_type": "markdown",
   "metadata": {},
   "source": [
    "Quizás parece más asequible y razonable estudiar y analizar únicamente los más nocivos para la salud. Para ello, [este artículo de la OMS](https://www.who.int/news-room/fact-sheets/detail/ambient-(outdoor)-air-quality-and-health) nos describe cuales son los gases más importantes a tener en cuentra por sus efectos sobre la salud:\n",
    "\n",
    "- Partículas ($PM_{2.5}$ y $PM_{10}$)\n",
    "- Ozono ($O_{3}$)\n",
    "- Dióxido de Nitrógeno ($NO_{2}$)\n",
    "- Dióxido de Azufre ($SO_{2}$)\n",
    "\n",
    "Parece razonable hacer una selección en el Dataset que hemos creado y quedarnos con estos cinco gases y, de paso, cambiar el código que los identifica por su nombre. Esto se realiza con el código siguiente:"
   ]
  },
  {
   "cell_type": "code",
   "execution_count": 6,
   "metadata": {},
   "outputs": [
    {
     "name": "stdout",
     "output_type": "stream",
     "text": [
      "['1' '6' '7' '8' '12' '9' '10' '14' '20' '30' '35' '42' '43' '44' '01'\n",
      " '06' '07' '08' '09']\n"
     ]
    }
   ],
   "source": [
    "# Primero parece razonable ver el campo \"Magnitud\", para ver como \n",
    "# son los valores que hay en él:\n",
    "\n",
    "print (datos[\"Magnitud\"].unique())"
   ]
  },
  {
   "cell_type": "code",
   "execution_count": 7,
   "metadata": {},
   "outputs": [],
   "source": [
    "# Y parece que los valores menores a 10 algunos vienen con cero y \n",
    "# otros no.\n",
    "\n",
    "# Primero añadimos ceros a todos los menores a 10:\n",
    "\n",
    "datos[\"Magnitud\"] = datos[\"Magnitud\"].apply(lambda x: x.zfill(2))\n",
    "\n",
    "# Y ahora reemplazamos nombres:\n",
    "\n",
    "# PM2.5\n",
    "\n",
    "datos[\"Magnitud\"] = datos[\"Magnitud\"].str.replace(\"09\",\"PM25\")\n",
    "\n",
    "# PM10\n",
    "\n",
    "datos[\"Magnitud\"] = datos[\"Magnitud\"].str.replace(\"10\",\"PM10\")\n",
    "\n",
    "# O3\n",
    "\n",
    "datos[\"Magnitud\"] = datos[\"Magnitud\"].str.replace(\"14\",\"O3\")\n",
    "\n",
    "# NO2\n",
    "\n",
    "datos[\"Magnitud\"] = datos[\"Magnitud\"].str.replace(\"08\",\"NO2\")\n",
    "\n",
    "# SO2\n",
    "\n",
    "datos[\"Magnitud\"] = datos[\"Magnitud\"].str.replace(\"01\",\"SO2\")\n",
    "\n",
    "# Finalmente seleccionamos solo los registros de estos cinco gases:\n",
    "\n",
    "datos = pd.concat([datos[datos[\"Magnitud\"]==\"PM25\"],\n",
    "                   datos[datos[\"Magnitud\"]==\"PM10\"],\n",
    "                   datos[datos[\"Magnitud\"]==\"O3\"],\n",
    "                 datos[datos[\"Magnitud\"]==\"NO2\"],\n",
    "                   datos[datos[\"Magnitud\"]==\"SO2\"]])\n"
   ]
  },
  {
   "cell_type": "markdown",
   "metadata": {},
   "source": [
    "De este modo, ya se han integrado todos los datos en un único DataFrame y se han seleccionado los campos y registros con los que se quiere trabajar. Es ahora el momento de comenzar la limpieza de los datos.\n",
    "\n",
    "# Limpieza de datos\n",
    "\n",
    "Lo primero que podemos hacer es ver un pequeño resumen de cada uno de los campos:\n"
   ]
  },
  {
   "cell_type": "code",
   "execution_count": 8,
   "metadata": {},
   "outputs": [
    {
     "name": "stdout",
     "output_type": "stream",
     "text": [
      "        Estación Magnitud     Año     Mes     Día         Medida Validacion\n",
      "count     192138   192138  192138  192138  192138  191283.000000     191283\n",
      "unique        24        5       8      24      40            NaN          7\n",
      "top     28079008      NO2      16      04      16            NaN          V\n",
      "freq       14570    69936   24552   12276    6198            NaN     186447\n",
      "mean         NaN      NaN     NaN     NaN     NaN      29.705959        NaN\n",
      "std          NaN      NaN     NaN     NaN     NaN      51.609899        NaN\n",
      "min          NaN      NaN     NaN     NaN     NaN       0.000000        NaN\n",
      "25%          NaN      NaN     NaN     NaN     NaN      10.000000        NaN\n",
      "50%          NaN      NaN     NaN     NaN     NaN      23.000000        NaN\n",
      "75%          NaN      NaN     NaN     NaN     NaN      44.000000        NaN\n",
      "max          NaN      NaN     NaN     NaN     NaN   19351.000000        NaN\n"
     ]
    }
   ],
   "source": [
    "# Empezamos haciendo un resumen general de todos los campos:\n",
    "\n",
    "print(datos.describe(include = \"all\"))"
   ]
  },
  {
   "cell_type": "markdown",
   "metadata": {},
   "source": [
    "Que ya nos señala que parece que hay algunos problemas en Mes (24 meses distintos), en Día (40 días diferentes) y en Validación (debería ser V o N y nos dice que hay 7 valores únicos). Por otro lado, el campo Magnitud ya lo hemos tratado en la sección anterior, por lo que no se necesita volver a revisar, el campo estación tiene 24 estaciones distintas, lo que coincide con el [documento](https://datos.madrid.es/FWProjects/egob/Catalogo/MedioAmbiente/Aire/Ficheros/Interprete_ficheros_%20calidad_%20del_%20aire_global.pdf) del Ayuntamiento, por lo que no parece que tampoco haya ningún problema con ello. Por otro lado, no tenemos información clara sobre los posibles errores que podría haber en la variable medida.\n",
    "\n",
    "Se van a analizar los campos anteriores de uno en uno:"
   ]
  },
  {
   "cell_type": "code",
   "execution_count": 9,
   "metadata": {},
   "outputs": [
    {
     "name": "stdout",
     "output_type": "stream",
     "text": [
      "['28079008' '28079024' '28079038' '28079047' '28079048' '28079050'\n",
      " '28079018' '28079036' '28079040' '28079055' '28079057' '28079060'\n",
      " '28079016' '28079017' '28079027' '28079035' '28079039' '28079049'\n",
      " '28079054' '28079056' '28079058' '28079059' '28079004' '28079011']\n"
     ]
    }
   ],
   "source": [
    "# Empezamos con Estación\n",
    "\n",
    "print (datos[\"Estación\"].unique())"
   ]
  },
  {
   "cell_type": "markdown",
   "metadata": {},
   "source": [
    "Como se esperaba, son las 24 estaciones que ha estado operativas en el periodo que se está analizando, por lo que no hay nada que corregir en este campo,"
   ]
  },
  {
   "cell_type": "code",
   "execution_count": 10,
   "metadata": {},
   "outputs": [
    {
     "name": "stdout",
     "output_type": "stream",
     "text": [
      "[2018 2017 '11' '12' '13' '14' '15' '16']\n"
     ]
    }
   ],
   "source": [
    "# Año\n",
    "\n",
    "print (datos[\"Año\"].unique())"
   ]
  },
  {
   "cell_type": "markdown",
   "metadata": {},
   "source": [
    "El formato del año no es uniforme entre todos los registros, por lo que parece razonable unificarlo. Se usará el formato 20xx:"
   ]
  },
  {
   "cell_type": "code",
   "execution_count": 11,
   "metadata": {},
   "outputs": [
    {
     "name": "stdout",
     "output_type": "stream",
     "text": [
      "[2018 2017 2011 2012 2013 2014 2015 2016]\n"
     ]
    }
   ],
   "source": [
    "# Cambiamos el formato del año:\n",
    "\n",
    "datos[\"Año\"] = datos[\"Año\"].astype(str)\n",
    "\n",
    "for i in range(1,7):\n",
    "    en = \"1\"+str(i)\n",
    "    sal = \"201\"+str(i)\n",
    "    datos[\"Año\"] = datos[\"Año\"].str.replace(en,sal)\n",
    "\n",
    "datos[\"Año\"] = datos[\"Año\"].astype(int)\n",
    "    \n",
    "print (datos[\"Año\"].unique())"
   ]
  },
  {
   "cell_type": "markdown",
   "metadata": {},
   "source": [
    "Vamos ahora con el mes:"
   ]
  },
  {
   "cell_type": "code",
   "execution_count": 12,
   "metadata": {},
   "outputs": [
    {
     "name": "stdout",
     "output_type": "stream",
     "text": [
      "[1 2 3 4 5 6 7 8 9 10 11 12 '01' '02' '03' '04' '05' '06' '07' '08' '09'\n",
      " '10' '11' '12']\n"
     ]
    }
   ],
   "source": [
    "# Mes\n",
    "\n",
    "print (datos[\"Mes\"].unique())"
   ]
  },
  {
   "cell_type": "markdown",
   "metadata": {},
   "source": [
    "Este parece más facil de resolver, en principio debería bastar con poner todos como enteros:"
   ]
  },
  {
   "cell_type": "code",
   "execution_count": 13,
   "metadata": {},
   "outputs": [
    {
     "name": "stdout",
     "output_type": "stream",
     "text": [
      "[ 1  2  3  4  5  6  7  8  9 10 11 12]\n"
     ]
    }
   ],
   "source": [
    "# Cambiamos los registros a enteros\n",
    "\n",
    "datos[\"Mes\"] = datos[\"Mes\"].astype(int)\n",
    "\n",
    "print (datos[\"Mes\"].unique())"
   ]
  },
  {
   "cell_type": "markdown",
   "metadata": {},
   "source": [
    "Revisemos ahora los días:"
   ]
  },
  {
   "cell_type": "code",
   "execution_count": 14,
   "metadata": {},
   "outputs": [
    {
     "name": "stdout",
     "output_type": "stream",
     "text": [
      "['01' '02' '03' '04' '05' '06' '07' '08' '09' '10' '11' '12' '13' '14'\n",
      " '15' '16' '17' '18' '19' '20' '21' '22' '23' '24' '25' '26' '27' '28'\n",
      " '29' '30' '31' '1' '2' '3' '4' '5' '6' '7' '8' '9']\n"
     ]
    }
   ],
   "source": [
    "# Día\n",
    "\n",
    "print (datos[\"Día\"].unique())"
   ]
  },
  {
   "cell_type": "markdown",
   "metadata": {},
   "source": [
    "Y se debería resolver de la misma forma que la variable Mes"
   ]
  },
  {
   "cell_type": "code",
   "execution_count": 15,
   "metadata": {},
   "outputs": [
    {
     "name": "stdout",
     "output_type": "stream",
     "text": [
      "[ 1  2  3  4  5  6  7  8  9 10 11 12 13 14 15 16 17 18 19 20 21 22 23 24\n",
      " 25 26 27 28 29 30 31]\n"
     ]
    }
   ],
   "source": [
    "datos[\"Día\"] = datos[\"Día\"].astype(int)\n",
    "\n",
    "print (datos[\"Día\"].unique())"
   ]
  },
  {
   "cell_type": "markdown",
   "metadata": {},
   "source": [
    "De las variables que estaban catalogadas como categóricas, ya solo queda validación. Veamos a ver por qué hay más de dos valores:"
   ]
  },
  {
   "cell_type": "code",
   "execution_count": 16,
   "metadata": {},
   "outputs": [
    {
     "name": "stdout",
     "output_type": "stream",
     "text": [
      "['V' 'N' 'V00000N00000N00000N' 'N00000N00000N00000N' nan 'V00000N' 'M'\n",
      " 'N00000N']\n"
     ]
    }
   ],
   "source": [
    "# Validación\n",
    "\n",
    "print (datos[\"Validacion\"].unique())"
   ]
  },
  {
   "cell_type": "markdown",
   "metadata": {},
   "source": [
    "Parece que además de V y N hay otros registros que combinan ceros V y N, registros con la letra M y registros con Nan. Evaluemos cada uno de ellos:"
   ]
  },
  {
   "cell_type": "code",
   "execution_count": 17,
   "metadata": {},
   "outputs": [
    {
     "name": "stdout",
     "output_type": "stream",
     "text": [
      "       Estación Magnitud   Año  Mes  Día  Medida           Validacion\n",
      "89623  28079008     PM25  2018    2   28     8.0  V00000N00000N00000N\n",
      "90023  28079024     PM25  2018    2   28     7.0  V00000N00000N00000N\n",
      "90307  28079038     PM25  2018    2   28     8.0  V00000N00000N00000N\n",
      "90487  28079047     PM25  2018    2   28     8.0  V00000N00000N00000N\n",
      "90537  28079048     PM25  2018    2   28     6.0  V00000N00000N00000N\n",
      "90627  28079050     PM25  2018    2   28     6.0  V00000N00000N00000N\n",
      "91145  28079008     PM25  2017    2   28     6.0  V00000N00000N00000N\n",
      "91625  28079024     PM25  2017    2   28     4.0  V00000N00000N00000N\n",
      "91973  28079038     PM25  2017    2   28     4.0  V00000N00000N00000N\n",
      "92249  28079048     PM25  2017    2   28     5.0  V00000N00000N00000N\n"
     ]
    }
   ],
   "source": [
    "# Vamos a empezar mirando algunos registros con \n",
    "# V00000N00000N00000N:\n",
    "\n",
    "s = datos[\"Validacion\"].unique()\n",
    "\n",
    "t = datos[datos[\"Validacion\"]==s[2]]\n",
    "\n",
    "print(t.head(10))\n"
   ]
  },
  {
   "cell_type": "markdown",
   "metadata": {},
   "source": [
    "¿Será casualidad o solo ocurre esto en los días 28 de febrero?"
   ]
  },
  {
   "cell_type": "code",
   "execution_count": 18,
   "metadata": {},
   "outputs": [
    {
     "name": "stdout",
     "output_type": "stream",
     "text": [
      "[28]\n",
      "[2]\n"
     ]
    }
   ],
   "source": [
    "# Veamos si esto ocurre solo con los días 28 de febrero:\n",
    "\n",
    "print (t[\"Día\"].unique())\n",
    "print (t[\"Mes\"].unique())"
   ]
  },
  {
   "cell_type": "markdown",
   "metadata": {},
   "source": [
    "Los registros apuntan a que es un error que sistemáticamente se comete en los datos. Parece ser que en algunos 28 de febrero se apunta el código de validación no solo del 28, sino del 29, 30 y 31 debido a que el mes no tiene 31 días. Es posible que esto sea fuente de Nan. Antes de realizar cambios en esta variable, vamos a analizar todos los demás incidentes que se han visto:"
   ]
  },
  {
   "cell_type": "code",
   "execution_count": 19,
   "metadata": {},
   "outputs": [
    {
     "name": "stdout",
     "output_type": "stream",
     "text": [
      "       Estación Magnitud   Año  Mes  Día  Medida           Validacion\n",
      "92189  28079047     PM25  2017    2   28     4.0  N00000N00000N00000N\n",
      "92201  28079047     PM10  2017    2   28     6.0  N00000N00000N00000N\n"
     ]
    }
   ],
   "source": [
    "# Vamos a mirar registros con N00000N00000N00000N:\n",
    "\n",
    "t = datos[datos[\"Validacion\"]==s[3]]\n",
    "\n",
    "print(t.head(10))"
   ]
  },
  {
   "cell_type": "markdown",
   "metadata": {},
   "source": [
    "Y podemos ver que también ocurre como en el caso anterior, 28 de febrero y, potencialmente, la fuente de seis Nan. Sigamos mirando el resto de incidentes:"
   ]
  },
  {
   "cell_type": "code",
   "execution_count": 20,
   "metadata": {},
   "outputs": [
    {
     "name": "stdout",
     "output_type": "stream",
     "text": [
      "       Estación Magnitud   Año  Mes  Día  Medida Validacion\n",
      "96257  28079008     PM25  2018    4   30     3.0    V00000N\n",
      "96259  28079008     PM25  2018    6   30    13.0    V00000N\n",
      "96262  28079008     PM25  2018    9   30    11.0    V00000N\n",
      "96941  28079038     PM25  2018    4   30     3.0    V00000N\n",
      "96943  28079038     PM25  2018    6   30    12.0    V00000N\n",
      "96946  28079038     PM25  2018    9   30    11.0    V00000N\n",
      "97121  28079047     PM25  2018    4   30     3.0    V00000N\n",
      "97123  28079047     PM25  2018    6   30    11.0    V00000N\n",
      "97126  28079047     PM25  2018    9   30    13.0    V00000N\n",
      "97171  28079048     PM25  2018    4   30     3.0    V00000N\n"
     ]
    }
   ],
   "source": [
    "# Vamos a mirar registros con V00000N:\n",
    "\n",
    "t = datos[datos[\"Validacion\"]==s[5]]\n",
    "\n",
    "print(t.head(10))"
   ]
  },
  {
   "cell_type": "markdown",
   "metadata": {},
   "source": [
    "Parece que ocurre en día 30 de los meses que tienen 30 días:"
   ]
  },
  {
   "cell_type": "code",
   "execution_count": 21,
   "metadata": {},
   "outputs": [
    {
     "name": "stdout",
     "output_type": "stream",
     "text": [
      "[30]\n",
      "[ 4  6  9 11]\n"
     ]
    }
   ],
   "source": [
    "# Verifiquemos si ocurre en el día 30 de los meses con 30 días:\n",
    "\n",
    "print (t[\"Día\"].unique())\n",
    "print (t[\"Mes\"].unique())"
   ]
  },
  {
   "cell_type": "markdown",
   "metadata": {},
   "source": [
    "Y efectivamente, ocurre en dichos meses. Tenemos identificada otra posible fuente de Nan. Sigamos:"
   ]
  },
  {
   "cell_type": "code",
   "execution_count": 22,
   "metadata": {},
   "outputs": [
    {
     "name": "stdout",
     "output_type": "stream",
     "text": [
      "       Estación Magnitud   Año  Mes  Día  Medida Validacion\n",
      "98170  28079018       O3  2017   11   30    34.0    N00000N\n",
      "98729  28079039       O3  2017    6   30    62.0    N00000N\n",
      "98134  28079018      NO2  2017   11   30    49.0    N00000N\n",
      "98705  28079039      NO2  2017    6   30    17.0    N00000N\n",
      "99387  28079059      NO2  2017    4   30     4.0    N00000N\n",
      "98098  28079018      SO2  2017   11   30     7.0    N00000N\n"
     ]
    }
   ],
   "source": [
    "# Vamos a mirar registros con N00000N:\n",
    "\n",
    "t = datos[datos[\"Validacion\"]==s[-1]]\n",
    "\n",
    "print(t.head(10))"
   ]
  },
  {
   "cell_type": "markdown",
   "metadata": {},
   "source": [
    "Y en este caso ocurre como en el anterior, el error tiene lugar en el día 30 de los meses con 30 días. Otra fuente de posibles Nan identificada. Nos queda ahora revisar los valores Nan y determinar si los valores Nan que aparecen se pueden explicar con los errores que hemos identificado anteriormente."
   ]
  },
  {
   "cell_type": "code",
   "execution_count": 23,
   "metadata": {},
   "outputs": [
    {
     "name": "stdout",
     "output_type": "stream",
     "text": [
      "Número de Nans:  855\n",
      "Número de Nans que podemos explicar:  855\n"
     ]
    }
   ],
   "source": [
    "# Vamos a contar el número de Nan que hay en total:\n",
    "\n",
    "print (\"Número de Nans: \",datos[\"Validacion\"].isna().sum())\n",
    "\n",
    "# Y ver cuantos Nan podemos explicar:\n",
    "# 3 por cada V00000N00000N00000N o N00000N00000N00000N\n",
    "# 1 por cada V00000N o N00000N\n",
    "\n",
    "t = (datos[datos[\"Validacion\"]==s[-1]].shape[0] +  \n",
    "     datos[datos[\"Validacion\"]==s[5]].shape[0] +\n",
    "    datos[datos[\"Validacion\"]==s[3]].shape[0]*3 + \n",
    "     datos[datos[\"Validacion\"]==s[2]].shape[0]*3)\n",
    "\n",
    "print (\"Número de Nans que podemos explicar: \", t)"
   ]
  },
  {
   "cell_type": "markdown",
   "metadata": {},
   "source": [
    "Se pueden explicar todos los Nan perfectamente, lo que nos permite borrarlos sabiendo que no nos exponemos a perder ningún tipo de información. Finalmente, nos queda determinar que realizar con el valor M. Revisando el [documento](https://datos.madrid.es/FWProjects/egob/Catalogo/MedioAmbiente/Aire/Ficheros/Interprete_ficheros_%20calidad_%20del_%20aire_global.pdf) del Ayuntamiento, se indica claramente que si no es V, no es válido, por lo que se entiende que M debe ser equivalente a N. Resumiendo, se deben tomar las siguientes tareas:\n",
    "\n",
    "- Los valores V00000N00000N00000N y V00000N deben sustituirse por V.\n",
    "- Todos los registros que en el campo validación no tienen V deben eliminarse.\n",
    "\n",
    "Esto se realiza con el código siguiente:"
   ]
  },
  {
   "cell_type": "code",
   "execution_count": 24,
   "metadata": {},
   "outputs": [],
   "source": [
    "# Cambiamos V00000N00000N00000N y V00000N por V:\n",
    "\n",
    "datos[\"Validacion\"] = datos[\"Validacion\"].str.replace(\"V00000N00000N00000N\",\"V\")\n",
    "datos[\"Validacion\"] = datos[\"Validacion\"].str.replace(\"V00000N\",\"V\")\n",
    "                                                      \n",
    "# Y nos quedamos únicamente con los datos válidos (V):\n",
    "\n",
    "datos = datos[datos[\"Validacion\"]==\"V\"]"
   ]
  },
  {
   "cell_type": "markdown",
   "metadata": {},
   "source": [
    "De este modo ya se han analizado y corregido todos los campos que, de forma inicial, pandas había reconocido como categóricos. El paso siguiente, por lo tanto, consiste en analizar la variable numérica que contiene todas las medidas, en busca tanto de posibles Nan que se hayan podido colar como de posibles valores extremos (*outliers*). Comencemos buscando valores nan:"
   ]
  },
  {
   "cell_type": "code",
   "execution_count": 25,
   "metadata": {},
   "outputs": [
    {
     "name": "stdout",
     "output_type": "stream",
     "text": [
      "Número de Nans:  0\n"
     ]
    }
   ],
   "source": [
    "# Ahora se revisan los valores de la columna Medidas. Se comienzan \n",
    "# buscando posibles valores Nan:\n",
    "\n",
    "print (\"Número de Nans: \",datos[\"Medida\"].isna().sum())"
   ]
  },
  {
   "cell_type": "markdown",
   "metadata": {},
   "source": [
    "La limpieza previa ha impedido que hayan pasado Nan, podemos ahora evaluar si hay valores nulo y en caso afirmativo cuantos hay:"
   ]
  },
  {
   "cell_type": "code",
   "execution_count": 26,
   "metadata": {},
   "outputs": [
    {
     "name": "stdout",
     "output_type": "stream",
     "text": [
      "Número de nulos:  0\n"
     ]
    }
   ],
   "source": [
    "# Revisamos ahora si hay valores nulos y cuantos hay:\n",
    "\n",
    "print (\"Número de nulos: \",datos[\"Medida\"].isnull().sum())"
   ]
  },
  {
   "cell_type": "markdown",
   "metadata": {},
   "source": [
    "Tampoco hay valores nulos. Finalmente, podemos verificar si hay valores cero y, en caso afirmativo, intentar explicar por qué podrían estar ahí."
   ]
  },
  {
   "cell_type": "code",
   "execution_count": 27,
   "metadata": {},
   "outputs": [
    {
     "name": "stdout",
     "output_type": "stream",
     "text": [
      "Número de ceros:  0\n"
     ]
    }
   ],
   "source": [
    "# Revisamos ahora si hay valores ceros y cuantos hay:\n",
    "\n",
    "print (\"Número de ceros: \",datos[datos[\"Medida\"]==0].shape[0])"
   ]
  },
  {
   "cell_type": "markdown",
   "metadata": {},
   "source": [
    "A priori, todos los valores deberían ser registros válidos. No obstante, lo mejor es dibujar gráficas de todos los gases en busca de posibles valores extremos. Quizás lo más adecuado sea combinar diagrama de cajas con diagrama de violín para tener un idea sobre la distribución y sobre los principales descriptores estadísticos de las medidas de cada gas. A continuación se muestra el código para realizar las gráficas y también las propias gráficas:"
   ]
  },
  {
   "cell_type": "code",
   "execution_count": 28,
   "metadata": {},
   "outputs": [
    {
     "data": {
      "image/png": "[encoded data removed]",
      "text/plain": [
       "<Figure size 720x1440 with 10 Axes>"
      ]
     },
     "metadata": {
      "needs_background": "light"
     },
     "output_type": "display_data"
    }
   ],
   "source": [
    "# Importamos la biblioteca matplotlib y autorizamos a que se muestren \n",
    "# las gráficas en el markdown\n",
    "\n",
    "import matplotlib.pyplot as plt\n",
    "%matplotlib inline\n",
    "\n",
    "# Definimos las dimensiones de la figura que se va a graficar:\n",
    "\n",
    "fig, ax = plt.subplots(5,2,figsize=(10,20))\n",
    "\n",
    "# Obtenemos la lista de los gases que se van a estudiar:\n",
    "\n",
    "lista = datos[\"Magnitud\"].unique()\n",
    "\n",
    "# Ponemos un loop para hacer el gráfico:\n",
    "\n",
    "for i in range(0,5):\n",
    "    ax[i,0].violinplot(datos[datos[\"Magnitud\"] == lista[i]][\"Medida\"], \n",
    "                       vert = False)\n",
    "    ax[i,0].set_title(lista[i],fontweight=\"bold\")\n",
    "    ax[i,0].set_xlabel(r'$\\mu g/m^{3}$')\n",
    "    ax[i,1].boxplot(datos[datos[\"Magnitud\"] == lista[i]][\"Medida\"], \n",
    "                    vert = False)\n",
    "    ax[i,1].set_title(lista[i],fontweight=\"bold\")\n",
    "    ax[i,1].set_xlabel(r'$\\mu g/m^{3}$')\n",
    "    \n",
    "plt.subplots_adjust(hspace=0.4)\n",
    "plt.show()"
   ]
  },
  {
   "cell_type": "markdown",
   "metadata": {},
   "source": [
    "En base a las gráficas anteriores se puede ver que existe una cantidad relativamente generosa de valores extremos. Vamos a intentar recopilar más información sobre ellos. Primero se intentará recopilar cuantos outliers hay para cada gas."
   ]
  },
  {
   "cell_type": "code",
   "execution_count": 30,
   "metadata": {},
   "outputs": [
    {
     "name": "stdout",
     "output_type": "stream",
     "text": [
      "\n",
      "Para PM25 se han contado los siguientes outliers:  257\n",
      "\n",
      "Para PM10 se han contado los siguientes outliers:  366\n",
      "\n",
      "Para O3 se han contado los siguientes outliers:  10\n",
      "\n",
      "Para NO2 se han contado los siguientes outliers:  572\n",
      "\n",
      "Para SO2 se han contado los siguientes outliers:  377\n"
     ]
    }
   ],
   "source": [
    "# Vamos a contar los outliers:\n",
    "\n",
    "import numpy as np\n",
    "from scipy import stats\n",
    "   \n",
    "for i in range(0,5):    \n",
    "    a = np.abs(stats.zscore(datos[datos[\"Magnitud\"] == lista[i]][\"Medida\"]))\n",
    "    texto = \"\\nPara \"+lista[i]+\" se han contado los siguientes outliers: \"\n",
    "    print(texto,len(a[np.where(a > 3)]))\n"
   ]
  },
  {
   "cell_type": "markdown",
   "metadata": {},
   "source": [
    "Se puede ver que de media, hay unos 30 valores extremos al año para cada gas. Parece que estos valores son facilmente atribuibles a días en los que, por las condiciones climáticas y de desplazamientos, los valores registrados por las estaciones se encontraban disparados. Pese a ser considerados como válidos por el Ayuntamiento, para evaluar el éxito del plan no se pueden tener en cuenta estos valores, pues pueden distorsionar las comparaciones estadísticas que se realicen en el siguiente apartado, donde se evaluará, mediante test estadísticos, si los valores medios anuales se han ido reduciendo de forma anual o si, al menos, se han reducido desde 2011 a 2018 de forma estadísticamente significativa.\n",
    "\n",
    "Por lo tanto, vamos a eliminar estos valores extremos. Aunque es conocido que el uso de la *Median Absolute Deviation* es más robusto para la detección de outliers, el enorme número de datos válidos para cada gas (del orden de decenas de miles) frente al pequeño número de *ouliers* y sus valores que como mucho llega a 10 veces la media, parece razonable, en este caso, utilizar como discriminante unas métricas basadas en los valores de desviación estándar y valor medio. No obstante, en un caso en el que la diferencia entre el número de valores válidos y *outliers* más sus valores no sea tan significativa, se obtendrán resultados mucho más robustos utilizando las métricas relacionadas con la mediana. La eliminación de los valores extremos se realiza con el código siguiente:\n"
   ]
  },
  {
   "cell_type": "code",
   "execution_count": 31,
   "metadata": {},
   "outputs": [
    {
     "data": {
      "image/png": "[encoded data removed]",
      "text/plain": [
       "<Figure size 720x1440 with 10 Axes>"
      ]
     },
     "metadata": {
      "needs_background": "light"
     },
     "output_type": "display_data"
    }
   ],
   "source": [
    "# Empecemos con PM25. \n",
    "# Primero calcularemos el valor que se desvía 3 desviaciones estándar \n",
    "# de la media. Gracias a los gráficos anteriores, podemos saber que no \n",
    "# hay outliers \"por abajo\":\n",
    "\n",
    "media = np.mean(datos[datos[\"Magnitud\"] == lista[0]][\"Medida\"])\n",
    "desv = np.std(datos[datos[\"Magnitud\"] == lista[0]][\"Medida\"])\n",
    "out = media + 3*desv\n",
    "\n",
    "# Filtramos:\n",
    "\n",
    "pm25 = datos[(datos[\"Magnitud\"] == lista[0])& (datos[\"Medida\"] < out)]\n",
    "\n",
    "# Y repetimos con todos los gases:\n",
    "\n",
    "# PM10\n",
    "media = np.mean(datos[datos[\"Magnitud\"] == lista[1]][\"Medida\"])\n",
    "desv = np.std(datos[datos[\"Magnitud\"] == lista[1]][\"Medida\"])\n",
    "out = media + 3*desv\n",
    "\n",
    "# Filtramos:\n",
    "\n",
    "pm10 = datos[(datos[\"Magnitud\"] == lista[1])& (datos[\"Medida\"] < out)]\n",
    "\n",
    "# O3\n",
    "media = np.mean(datos[datos[\"Magnitud\"] == lista[2]][\"Medida\"])\n",
    "desv = np.std(datos[datos[\"Magnitud\"] == lista[2]][\"Medida\"])\n",
    "out = media + 3*desv\n",
    "\n",
    "# Filtramos:\n",
    "\n",
    "o3 = datos[(datos[\"Magnitud\"] == lista[2])& (datos[\"Medida\"] < out)]\n",
    "\n",
    "# NO2\n",
    "media = np.mean(datos[datos[\"Magnitud\"] == lista[3]][\"Medida\"])\n",
    "desv = np.std(datos[datos[\"Magnitud\"] == lista[3]][\"Medida\"])\n",
    "out = media + 3*desv\n",
    "\n",
    "# Filtramos:\n",
    "\n",
    "no2 = datos[(datos[\"Magnitud\"] == lista[3])& (datos[\"Medida\"] < out)]\n",
    "\n",
    "# SO2\n",
    "media = np.mean(datos[datos[\"Magnitud\"] == lista[4]][\"Medida\"])\n",
    "desv = np.std(datos[datos[\"Magnitud\"] == lista[4]][\"Medida\"])\n",
    "out = media + 3*desv\n",
    "\n",
    "# Filtramos:\n",
    "\n",
    "so2 = datos[(datos[\"Magnitud\"] == lista[4])& (datos[\"Medida\"] < out)]\n",
    "\n",
    "# Finalmente, juntamos todo:\n",
    "\n",
    "datos = pd.concat([pm25, pm10, o3, no2, so2])\n",
    "\n",
    "# Y volvemos a graficar, para verificar que hemos eliminado los valores extremos\n",
    "\n",
    "fig, ax = plt.subplots(5,2,figsize=(10,20))\n",
    "\n",
    "for i in range(0,5):\n",
    "    ax[i,0].violinplot(datos[datos[\"Magnitud\"] == lista[i]][\"Medida\"], \n",
    "                       vert = False)\n",
    "    ax[i,0].set_title(lista[i],fontweight=\"bold\")\n",
    "    ax[i,0].set_xlabel(r'$\\mu g/m^{3}$')\n",
    "    ax[i,1].boxplot(datos[datos[\"Magnitud\"] == lista[i]][\"Medida\"], \n",
    "                    vert = False, showfliers = False)\n",
    "    ax[i,1].set_title(lista[i],fontweight=\"bold\")\n",
    "    ax[i,1].set_xlabel(r'$\\mu g/m^{3}$')\n",
    "    \n",
    "plt.subplots_adjust(hspace=0.4)\n",
    "plt.show()"
   ]
  },
  {
   "cell_type": "markdown",
   "metadata": {},
   "source": [
    "Ahora que se han eliminado los valores extremos, tanto los boxplots como los diagramas de violín tiene una presencia bastante diferente. Por lo tanto, podemos dar por terminada la limpieza de datos y comenzar con el análisis de los mismos.\n",
    "\n",
    "# Análisis de los datos\n",
    "\n",
    "Una vez que ya se han preparado definitivamente los datos para su análisis, podemos proceder a evaluar, para los cinco gases que se han seleccionado, si realmente ha existido una mejora en las emisiones anuales en la ciudad de Madrid. Para ello, se realizarán diversos análisis:\n",
    "\n",
    "- Se calcularán los resumenes estadísticos por cada gas emitido.\n",
    "- Se graficarán los resultados en los grupos anuales para evaluar si pueden existir tendencias.\n",
    "- Se comprobarán la normalidad y la homogeneidad de las varianzas.\n",
    "- A partir de los resultados obtenidos en los gráficos, se seleccionarán entre qué años se realizarán test estadísticos para verificar si las diferencias encontradas en las medias son estadísticamente significativas.\n",
    "\n",
    "Es importante señalar que no se lleva a cabo ninguna regresión debido a que un nuevo plan de calidad del aire ha entrado en vigor en 2018 y las predicciones que se podrían sacar con dicho modelo no estarían teniendo en cuenta las cambios a futuro, por lo que no serían últiles.\n",
    "\n",
    "## Análisis de $PM_{2.5}$\n",
    "\n",
    "En esta sección, se analizan los resultados para $PM_{2.5}$. Siguiendo los pasos señalados, lo primero consisten en obtener los resúmenes estadísticos:"
   ]
  },
  {
   "cell_type": "code",
   "execution_count": 33,
   "metadata": {},
   "outputs": [
    {
     "name": "stdout",
     "output_type": "stream",
     "text": [
      "count    16192.000000\n",
      "mean        10.250618\n",
      "std          4.669253\n",
      "min          1.000000\n",
      "25%          7.000000\n",
      "50%         10.000000\n",
      "75%         13.000000\n",
      "max         24.000000\n",
      "Name: Medida, dtype: float64\n"
     ]
    }
   ],
   "source": [
    "# Vamos a calcular los resumenes estadísticos para PM25:\n",
    "\n",
    "t = datos[datos[\"Magnitud\"] == lista[0]]\n",
    "\n",
    "print(t[\"Medida\"].describe())"
   ]
  },
  {
   "cell_type": "markdown",
   "metadata": {},
   "source": [
    "Se puede ver que el valor de la desviación estándar es practicamente la mitad del valor medio, lo que nos indica una gran variabilidad que podría estar explicada tanto por un prograsivo descenso como por un alto impacto de las estaciones en las emisiones. Del mismo modo, se puede ver que el valor de la mediana y la media es prácticamente el mismo, lo que indica que los valores extremos no tienen mucho efecto sobre la media y que se distribuyen de forma relativamente balanceada en su entorno. Para evaluar los valores medios anuales y su evolución, lo mejor es realizarlo mediante varios diagramas de cajas en los que también se incluya la medida de la media."
   ]
  },
  {
   "cell_type": "code",
   "execution_count": 47,
   "metadata": {},
   "outputs": [
    {
     "data": {
      "image/png": "[encoded data removed]",
      "text/plain": [
       "<Figure size 720x360 with 1 Axes>"
      ]
     },
     "metadata": {
      "needs_background": "light"
     },
     "output_type": "display_data"
    }
   ],
   "source": [
    "# Seleccionamos las columnas años y medidas para graficar:\n",
    "\n",
    "t.boxplot(column = \"Medida\", by = \"Año\", figsize = (10,5), grid = False, \n",
    "          showmeans = True, showfliers = False)\n",
    "plt.title(\"Evolución de las emisiones de $PM_{2.5}$\",fontweight=\"bold\")\n",
    "plt.suptitle(\"\")\n",
    "plt.show()"
   ]
  },
  {
   "cell_type": "markdown",
   "metadata": {},
   "source": [
    "La gráfica anterior nos proporciona bastante información. Lo primero que llama la atención que la media (triángulo) y la mediana suelen tener valores similares, lo que nos indica distribuciones que guardan, hasta cierto punto, cierta homogeneidad a lo largo de los años. Del mismo modo, salvo en el año 2013, se aprecia que el rango intercuantílico (el tamaño de la caja) es aproximadamente igual en todos los casos. Además, parece apreciarse una tendencia descendente en el periodo de tiempo analizado, lo que parece indicar que el número de $PM_{2.5}$ se ha ido reduciendo paulatinamente a lo largo de los años. Sin embargo, aunque parece apreciarse una tendencia, parece razonable evaluar si los cambios que se observan de año a año son significativos estadísticamente. Es decir, deberíamos poder comprobar si podemos decir con la suficente confianza que la media de cada año es menor que la del anterior y también si las medias de 2011 y 2018, inicio y fin del periodo también lo son. Para realizar comprobaciones entre estas variables es razonable llevar a cabo la verificación de la normalización y la homogeneidad de las varianzas.\n",
    "\n",
    "Para la nomalización, se podría llevar a cabo un test de Saphiro. Sin embargo, debido a que son registros diarios de 24 estaciones y los estamos agrupando por años, podemos asumir que cada grupo tiene más de 30 registros y, por el teorema del límite central, podemos aproximarlo por una distribución normal.\n",
    "\n",
    "En cuanto a la homogeneidad de las varianzas, podemos verificarla con el test de Fligner:"
   ]
  },
  {
   "cell_type": "code",
   "execution_count": 57,
   "metadata": {},
   "outputs": [
    {
     "name": "stdout",
     "output_type": "stream",
     "text": [
      "FlignerResult(statistic=174.46663008964165, pvalue=2.8685531305225686e-34)\n"
     ]
    }
   ],
   "source": [
    "# Verificamos la homogeneidad de las varianzas:\n",
    "\n",
    "res = stats.fligner(t[t[\"Año\"]==2011][\"Medida\"],t[t[\"Año\"]==2012][\"Medida\"],\n",
    "                    t[t[\"Año\"]==2013][\"Medida\"]\n",
    "                   ,t[t[\"Año\"]==2014][\"Medida\"],t[t[\"Año\"]==2015][\"Medida\"],\n",
    "                    t[t[\"Año\"]==2016][\"Medida\"]\n",
    "                   ,t[t[\"Año\"]==2017][\"Medida\"],t[t[\"Año\"]==2018][\"Medida\"])\n",
    "\n",
    "print (res)"
   ]
  },
  {
   "cell_type": "markdown",
   "metadata": {},
   "source": [
    "Y nos da como resultado que no hay homogeneidad en las varianzas, un resultado que hay que tener en cuenta a la hora de realizar los test estadísticos que se realizan a continuación:"
   ]
  },
  {
   "cell_type": "code",
   "execution_count": 62,
   "metadata": {},
   "outputs": [
    {
     "name": "stdout",
     "output_type": "stream",
     "text": [
      "\n",
      " P valor para 2011-2012:  2.501495135737715e-07\n",
      "\n",
      " P valor para 2012-2013:  3.520398622215011e-18\n",
      "\n",
      " P valor para 2013-2014:  7.500839377760668e-06\n",
      "\n",
      " P valor para 2014-2015:  0.9409371442782475\n",
      "\n",
      " P valor para 2015-2016:  5.514636794125511e-05\n",
      "\n",
      " P valor para 2016-2017:  2.3208229002328165e-09\n",
      "\n",
      " P valor para 2017-2018:  0.03727719432155136\n",
      "\n",
      " P valor para 2011-2018:  7.936976808841853e-57\n",
      "\n",
      "La reducción en las emisiones en el periodo ha sido del : -0.2775511442326717\n"
     ]
    }
   ],
   "source": [
    "# Comparamos año a año y los dos extremos (2011 y 2018)\n",
    "\n",
    "# 2011-2012\n",
    "print (\"\\n P valor para 2011-2012: \", \n",
    "       stats.ttest_ind(t[t[\"Año\"]==2011][\"Medida\"],\n",
    "                       t[t[\"Año\"]==2012][\"Medida\"],equal_var = False).pvalue)\n",
    "\n",
    "# 2012-2013\n",
    "print (\"\\n P valor para 2012-2013: \", \n",
    "       stats.ttest_ind(t[t[\"Año\"]==2012][\"Medida\"],\n",
    "                       t[t[\"Año\"]==2013][\"Medida\"],equal_var = False).pvalue)\n",
    "\n",
    "# 2013-2014\n",
    "print (\"\\n P valor para 2013-2014: \", \n",
    "       stats.ttest_ind(t[t[\"Año\"]==2013][\"Medida\"],\n",
    "                       t[t[\"Año\"]==2014][\"Medida\"],equal_var = False).pvalue)\n",
    "\n",
    "# 2014-2015\n",
    "print (\"\\n P valor para 2014-2015: \", \n",
    "       stats.ttest_ind(t[t[\"Año\"]==2014][\"Medida\"],\n",
    "                       t[t[\"Año\"]==2015][\"Medida\"],equal_var = False).pvalue)\n",
    "\n",
    "# 2015-2016\n",
    "print (\"\\n P valor para 2015-2016: \", \n",
    "       stats.ttest_ind(t[t[\"Año\"]==2015][\"Medida\"],\n",
    "                       t[t[\"Año\"]==2016][\"Medida\"],equal_var = False).pvalue)\n",
    "\n",
    "# 2016-2017\n",
    "print (\"\\n P valor para 2016-2017: \", \n",
    "       stats.ttest_ind(t[t[\"Año\"]==2015][\"Medida\"],\n",
    "                       t[t[\"Año\"]==2017][\"Medida\"],equal_var = False).pvalue)\n",
    "\n",
    "# 2017-2018\n",
    "print (\"\\n P valor para 2017-2018: \", \n",
    "       stats.ttest_ind(t[t[\"Año\"]==2017][\"Medida\"],\n",
    "                       t[t[\"Año\"]==2018][\"Medida\"],equal_var = False).pvalue)\n",
    "\n",
    "# 2011-2018\n",
    "print (\"\\n P valor para 2011-2018: \", \n",
    "       stats.ttest_ind(t[t[\"Año\"]==2011][\"Medida\"],\n",
    "                       t[t[\"Año\"]==2018][\"Medida\"],equal_var = False).pvalue)\n",
    "\n",
    "# Reducción de las emisiones en el periodo:\n",
    "\n",
    "print (\"\\nEl cambio en las emisiones en el periodo ha sido del :\",\n",
    "       (1-(np.mean(t[t[\"Año\"]==2011][\"Medida\"])/np.mean(t[t[\"Año\"]==2018][\"Medida\"]))))"
   ]
  },
  {
   "cell_type": "markdown",
   "metadata": {},
   "source": [
    "Una vez realizados los t-test y comparándolos con la gráfica anterior, podemos llegar a las siguientes conclusiones:\n",
    "\n",
    "- De 2011 a 2013 y de 2015 a 2018, las emisiones de $PM_{2.5}$ han visto una reducción estadísticamente significativa.\n",
    "- De 2014 a 2015 , los niveles de emisión no han presentado cambios significativos\n",
    "- De 2013 a 2014, los niveles de emisión crecieron de forma estadísticamente significativa.\n",
    "- En el periodo de 2011 a 2018 se han reducido las emisiones casi un 28% de forma significativa.\n",
    "\n",
    "## Análisis de $PM_{10}$\n",
    "\n",
    "En esta sección, se analizan los resultados para $PM_{10}$. Siguiendo los pasos señalados, lo primero consisten en obtener los resúmenes estadísticos:"
   ]
  },
  {
   "cell_type": "code",
   "execution_count": 63,
   "metadata": {},
   "outputs": [
    {
     "name": "stdout",
     "output_type": "stream",
     "text": [
      "count    33024.000000\n",
      "mean        19.051447\n",
      "std          9.408451\n",
      "min          1.000000\n",
      "25%         12.000000\n",
      "50%         18.000000\n",
      "75%         25.000000\n",
      "max         48.000000\n",
      "Name: Medida, dtype: float64\n"
     ]
    }
   ],
   "source": [
    "# Vamos a calcular los resumenes estadísticos para PM10:\n",
    "\n",
    "t = datos[datos[\"Magnitud\"] == lista[1]]\n",
    "\n",
    "print(t[\"Medida\"].describe())"
   ]
  },
  {
   "cell_type": "markdown",
   "metadata": {},
   "source": [
    "Se puede ver que el valor de la desviación estándar es practicamente la mitad del valor medio, lo que nos indica una gran variabilidad que podría estar explicada tanto por un progresivo descenso como por un alto impacto de las estaciones en las emisiones. Del mismo modo, se puede ver que el valor de la mediana y la media es prácticamente el mismo, aunque la diferencia es mayor que con el gas anterior, lo que indica que los valores extremos no tienen mucho efecto sobre la media y que se distribuyen de forma relativamente balanceada en su entorno. Para evaluar los valores medios anuales y su evolución, lo mejor es realizarlo mediante varios diagramas de cajas en los que también se incluya la medida de la media."
   ]
  },
  {
   "cell_type": "code",
   "execution_count": 64,
   "metadata": {},
   "outputs": [
    {
     "data": {
      "image/png": "[encoded data removed]",
      "text/plain": [
       "<Figure size 720x360 with 1 Axes>"
      ]
     },
     "metadata": {
      "needs_background": "light"
     },
     "output_type": "display_data"
    }
   ],
   "source": [
    "# Seleccionamos las columnas años y medidas para graficar:\n",
    "\n",
    "t.boxplot(column = \"Medida\", by = \"Año\", figsize = (10,5), grid = False, \n",
    "          showmeans = True, showfliers = False)\n",
    "plt.title(\"Evolución de las emisiones de $PM_{10}$\",fontweight=\"bold\")\n",
    "plt.suptitle(\"\")\n",
    "plt.show()"
   ]
  },
  {
   "cell_type": "markdown",
   "metadata": {},
   "source": [
    "A diferencia de la gráfica del gas anterior, para las PM10, aunque también hay una tendencia decreciente, no es tan clara. De hecho, se puede ver un claro repunte de las emisiones entre 2013 y 2015, que habrá que evaluar si es estadísticamente significativo o no.Para realizar comprobaciones entre estas variables es razonable llevar a cabo la verificación de la normalización y la homogeneidad de las varianzas.\n",
    "\n",
    "Para la nomalización, se podría llevar a cabo un test de Saphiro. Sin embargo, debido a que son registros diarios y los estamos agrupando por años, podemos asumir que cada grupo tiene más de 30 registros y, por el teorema del límite central, podemos aproximarlo por una distribución normal.\n",
    "\n",
    "En cuanto a la homogeneidad de las varianzas, podemos verificarla con el test de Fligner:"
   ]
  },
  {
   "cell_type": "code",
   "execution_count": 65,
   "metadata": {},
   "outputs": [
    {
     "name": "stdout",
     "output_type": "stream",
     "text": [
      "FlignerResult(statistic=213.93302453850328, pvalue=1.2786465486084101e-42)\n"
     ]
    }
   ],
   "source": [
    "# Verificamos la homogeneidad de las varianzas:\n",
    "\n",
    "res = stats.fligner(t[t[\"Año\"]==2011][\"Medida\"],t[t[\"Año\"]==2012][\"Medida\"],\n",
    "                    t[t[\"Año\"]==2013][\"Medida\"]\n",
    "                   ,t[t[\"Año\"]==2014][\"Medida\"],t[t[\"Año\"]==2015][\"Medida\"],\n",
    "                    t[t[\"Año\"]==2016][\"Medida\"]\n",
    "                   ,t[t[\"Año\"]==2017][\"Medida\"],t[t[\"Año\"]==2018][\"Medida\"])\n",
    "\n",
    "print (res)"
   ]
  },
  {
   "cell_type": "markdown",
   "metadata": {},
   "source": [
    "Y nos da como resultado que no hay homogeneidad en las varianzas, un resultado que hay que tener en cuenta a la hora de realizar los test estadísticos que se realizan a continuación:"
   ]
  },
  {
   "cell_type": "code",
   "execution_count": 66,
   "metadata": {},
   "outputs": [
    {
     "name": "stdout",
     "output_type": "stream",
     "text": [
      "\n",
      " P valor para 2011-2012:  1.7412189233816207e-14\n",
      "\n",
      " P valor para 2012-2013:  9.25277325975586e-35\n",
      "\n",
      " P valor para 2013-2014:  0.021349189894107366\n",
      "\n",
      " P valor para 2014-2015:  2.015032033754815e-10\n",
      "\n",
      " P valor para 2015-2016:  2.1796255190850166e-27\n",
      "\n",
      " P valor para 2016-2017:  9.11859379319209e-06\n",
      "\n",
      " P valor para 2017-2018:  8.836363927130135e-22\n",
      "\n",
      " P valor para 2011-2018:  2.8446520329823265e-127\n",
      "\n",
      "El cambio en las emisiones en el periodo ha sido del : -0.3217112134070361\n"
     ]
    }
   ],
   "source": [
    "# Comparamos año a año y los dos extremos (2011 y 2018)\n",
    "\n",
    "# 2011-2012\n",
    "print (\"\\n P valor para 2011-2012: \", \n",
    "       stats.ttest_ind(t[t[\"Año\"]==2011][\"Medida\"],\n",
    "                       t[t[\"Año\"]==2012][\"Medida\"],equal_var = False).pvalue)\n",
    "\n",
    "# 2012-2013\n",
    "print (\"\\n P valor para 2012-2013: \", \n",
    "       stats.ttest_ind(t[t[\"Año\"]==2012][\"Medida\"],\n",
    "                       t[t[\"Año\"]==2013][\"Medida\"],equal_var = False).pvalue)\n",
    "\n",
    "# 2013-2014\n",
    "print (\"\\n P valor para 2013-2014: \", \n",
    "       stats.ttest_ind(t[t[\"Año\"]==2013][\"Medida\"],\n",
    "                       t[t[\"Año\"]==2014][\"Medida\"],equal_var = False).pvalue)\n",
    "\n",
    "# 2014-2015\n",
    "print (\"\\n P valor para 2014-2015: \", \n",
    "       stats.ttest_ind(t[t[\"Año\"]==2014][\"Medida\"],\n",
    "                       t[t[\"Año\"]==2015][\"Medida\"],equal_var = False).pvalue)\n",
    "\n",
    "# 2015-2016\n",
    "print (\"\\n P valor para 2015-2016: \", \n",
    "       stats.ttest_ind(t[t[\"Año\"]==2015][\"Medida\"],\n",
    "                       t[t[\"Año\"]==2016][\"Medida\"],equal_var = False).pvalue)\n",
    "\n",
    "# 2016-2017\n",
    "print (\"\\n P valor para 2016-2017: \", \n",
    "       stats.ttest_ind(t[t[\"Año\"]==2015][\"Medida\"],\n",
    "                       t[t[\"Año\"]==2017][\"Medida\"],equal_var = False).pvalue)\n",
    "\n",
    "# 2017-2018\n",
    "print (\"\\n P valor para 2017-2018: \", \n",
    "       stats.ttest_ind(t[t[\"Año\"]==2017][\"Medida\"],\n",
    "                       t[t[\"Año\"]==2018][\"Medida\"],equal_var = False).pvalue)\n",
    "\n",
    "# 2011-2018\n",
    "print (\"\\n P valor para 2011-2018: \", \n",
    "       stats.ttest_ind(t[t[\"Año\"]==2011][\"Medida\"],\n",
    "                       t[t[\"Año\"]==2018][\"Medida\"],equal_var = False).pvalue)\n",
    "\n",
    "# Reducción de las emisiones en el periodo:\n",
    "\n",
    "print (\"\\nEl cambio en las emisiones en el periodo ha sido del :\",\n",
    "       (1-(np.mean(t[t[\"Año\"]==2011][\"Medida\"])/np.mean(t[t[\"Año\"]==2018][\"Medida\"]))))"
   ]
  },
  {
   "cell_type": "markdown",
   "metadata": {},
   "source": [
    "Una vez realizados los t-test y comparándolos con la gráfica anterior, podemos llegar a las siguientes conclusiones:\n",
    "\n",
    "- De 2011 a 2013 y de 2015 a 2016 y de 2017 a 2018, las emisiones de $PM_{10}$ han visto una reducción estadísticamente significativa.\n",
    "- No ha habido ningún salto de años en el los niveles de emisión no han presentado cambios significativos\n",
    "- De 2013 a 2014 y de 2016 a 2017 los niveles de emisión crecieron de forma estadísticamente significativa.\n",
    "- En el periodo de 2011 a 2018 se han reducido las emisiones  un 32% de forma estadisticamente significativa.\n",
    "\n",
    "## Análisis de $O_{3}$\n",
    "\n",
    "En esta sección, se analizan los resultados para $O_{3}$. Siguiendo los pasos señalados, lo primero consisten en obtener los resúmenes estadísticos:"
   ]
  },
  {
   "cell_type": "code",
   "execution_count": 67,
   "metadata": {},
   "outputs": [
    {
     "name": "stdout",
     "output_type": "stream",
     "text": [
      "count    39751.000000\n",
      "mean        48.895273\n",
      "std         24.279782\n",
      "min          1.000000\n",
      "25%         30.000000\n",
      "50%         50.000000\n",
      "75%         67.000000\n",
      "max        121.000000\n",
      "Name: Medida, dtype: float64\n"
     ]
    }
   ],
   "source": [
    "# Vamos a calcular los resumenes estadísticos para O3:\n",
    "\n",
    "t = datos[datos[\"Magnitud\"] == lista[2]]\n",
    "\n",
    "print(t[\"Medida\"].describe())"
   ]
  },
  {
   "cell_type": "markdown",
   "metadata": {},
   "source": [
    "De manera análoga a los gases anteriormente comentados, se puede ver que la desviación estándar es la mitad del valor medio, lo que nos indica una alta variabilidad en la muestra, que puede deberse a mucho factores, como una significativa evolución temporal. Del mismo modo que los otros gases, la media y la mediana presentan valores similares, lo que apunta a un reparto relativamente balanceado de los valores a ambos lados de la media."
   ]
  },
  {
   "cell_type": "code",
   "execution_count": 68,
   "metadata": {},
   "outputs": [
    {
     "data": {
      "image/png": "[encoded data removed]",
      "text/plain": [
       "<Figure size 720x360 with 1 Axes>"
      ]
     },
     "metadata": {
      "needs_background": "light"
     },
     "output_type": "display_data"
    }
   ],
   "source": [
    "# Seleccionamos las columnas años y medidas para graficar:\n",
    "\n",
    "t.boxplot(column = \"Medida\", by = \"Año\", figsize = (10,5), \n",
    "          grid = False, showmeans = True, showfliers = False)\n",
    "plt.title(\"Evolución de las emisiones de $O_{3}$\",fontweight=\"bold\")\n",
    "plt.suptitle(\"\")\n",
    "plt.show()"
   ]
  },
  {
   "cell_type": "markdown",
   "metadata": {},
   "source": [
    "Y, al comparalo con las gráficas anteriores, aparece la primera sorpresa. Las emisiones de Ozono han crecido de forma sostenida desde 2011 a 2018. Principalmente, se encuentra dos puntos principales, pues de 2012 a 2013 y de 2017 a 2018 parece crecer bastante, mientras que en el resto de los años o no varía o decrecen ligeramente. Podremos comprobar entre qué años se dieron cambios realmente significativos con los test estadísticos.\n",
    "\n",
    "Para la nomalización, se podría llevar a cabo un test de Saphiro. Sin embargo, debido a que son registros diarios y los estamos agrupando por años, podemos asumir que cada grupo tiene más de 30 registros y, por el teorema del límite central, podemos aproximarlo por una distribución normal.\n",
    "\n",
    "En cuanto a la homogeneidad de las varianzas, podemos verificarla con el test de Fligner:"
   ]
  },
  {
   "cell_type": "code",
   "execution_count": 69,
   "metadata": {},
   "outputs": [
    {
     "name": "stdout",
     "output_type": "stream",
     "text": [
      "FlignerResult(statistic=509.3811224997736, pvalue=7.709348182326464e-106)\n"
     ]
    }
   ],
   "source": [
    "# Verificamos la homogeneidad de las varianzas:\n",
    "\n",
    "res = stats.fligner(t[t[\"Año\"]==2011][\"Medida\"],t[t[\"Año\"]==2012][\"Medida\"],\n",
    "                    t[t[\"Año\"]==2013][\"Medida\"]\n",
    "                   ,t[t[\"Año\"]==2014][\"Medida\"],t[t[\"Año\"]==2015][\"Medida\"],\n",
    "                    t[t[\"Año\"]==2016][\"Medida\"]\n",
    "                   ,t[t[\"Año\"]==2017][\"Medida\"],t[t[\"Año\"]==2018][\"Medida\"])\n",
    "\n",
    "print (res)"
   ]
  },
  {
   "cell_type": "markdown",
   "metadata": {},
   "source": [
    "Y nos da como resultado que no hay homogeneidad en las varianzas, un resultado que hay que tener en cuenta a la hora de realizar los test estadísticos que se realizan a continuación:"
   ]
  },
  {
   "cell_type": "code",
   "execution_count": 70,
   "metadata": {},
   "outputs": [
    {
     "name": "stdout",
     "output_type": "stream",
     "text": [
      "\n",
      " P valor para 2011-2012:  4.029728955954956e-18\n",
      "\n",
      " P valor para 2012-2013:  1.0631597250388239e-80\n",
      "\n",
      " P valor para 2013-2014:  0.0006495593148965212\n",
      "\n",
      " P valor para 2014-2015:  0.027569018688873324\n",
      "\n",
      " P valor para 2015-2016:  0.003460738471040902\n",
      "\n",
      " P valor para 2016-2017:  1.0814070699561873e-05\n",
      "\n",
      " P valor para 2017-2018:  5.809599063564091e-70\n",
      "\n",
      " P valor para 2011-2018:  7.464542947052577e-131\n",
      "\n",
      "El cambio en las emisiones en el periodo ha sido del : 0.21064943292153226\n"
     ]
    }
   ],
   "source": [
    "# Comparamos año a año y los dos extremos (2011 y 2018)\n",
    "\n",
    "# 2011-2012\n",
    "print (\"\\n P valor para 2011-2012: \", \n",
    "       stats.ttest_ind(t[t[\"Año\"]==2011][\"Medida\"],\n",
    "                       t[t[\"Año\"]==2012][\"Medida\"],equal_var = False).pvalue)\n",
    "\n",
    "# 2012-2013\n",
    "print (\"\\n P valor para 2012-2013: \", \n",
    "       stats.ttest_ind(t[t[\"Año\"]==2012][\"Medida\"],\n",
    "                       t[t[\"Año\"]==2013][\"Medida\"],equal_var = False).pvalue)\n",
    "\n",
    "# 2013-2014\n",
    "print (\"\\n P valor para 2013-2014: \", \n",
    "       stats.ttest_ind(t[t[\"Año\"]==2013][\"Medida\"],\n",
    "                       t[t[\"Año\"]==2014][\"Medida\"],equal_var = False).pvalue)\n",
    "\n",
    "# 2014-2015\n",
    "print (\"\\n P valor para 2014-2015: \", \n",
    "       stats.ttest_ind(t[t[\"Año\"]==2014][\"Medida\"],\n",
    "                       t[t[\"Año\"]==2015][\"Medida\"],equal_var = False).pvalue)\n",
    "\n",
    "# 2015-2016\n",
    "print (\"\\n P valor para 2015-2016: \", \n",
    "       stats.ttest_ind(t[t[\"Año\"]==2015][\"Medida\"],\n",
    "                       t[t[\"Año\"]==2016][\"Medida\"],equal_var = False).pvalue)\n",
    "\n",
    "# 2016-2017\n",
    "print (\"\\n P valor para 2016-2017: \", \n",
    "       stats.ttest_ind(t[t[\"Año\"]==2015][\"Medida\"],\n",
    "                       t[t[\"Año\"]==2017][\"Medida\"],equal_var = False).pvalue)\n",
    "\n",
    "# 2017-2018\n",
    "print (\"\\n P valor para 2017-2018: \", \n",
    "       stats.ttest_ind(t[t[\"Año\"]==2017][\"Medida\"],\n",
    "                       t[t[\"Año\"]==2018][\"Medida\"],equal_var = False).pvalue)\n",
    "\n",
    "# 2011-2018\n",
    "print (\"\\n P valor para 2011-2018: \", \n",
    "       stats.ttest_ind(t[t[\"Año\"]==2011][\"Medida\"],\n",
    "                       t[t[\"Año\"]==2018][\"Medida\"],equal_var = False).pvalue)\n",
    "\n",
    "# Reducción de las emisiones en el periodo:\n",
    "\n",
    "print (\"\\nEl cambio en las emisiones en el periodo ha sido del :\",\n",
    "       (1-(np.mean(t[t[\"Año\"]==2011][\"Medida\"])/np.mean(t[t[\"Año\"]==2018][\"Medida\"]))))"
   ]
  },
  {
   "cell_type": "markdown",
   "metadata": {},
   "source": [
    "Una vez realizados los t-test y comparándolos con la gráfica anterior, podemos llegar a las siguientes conclusiones:\n",
    "\n",
    "- De 2011 a 2012 y de 2014 a 2017 las emisiones de $O_{3}$ han visto una reducción estadísticamente significativa, aunque muy moderada.\n",
    "- No ha habido ningún salto de años en el los niveles de emisión no han presentado cambios significativos\n",
    "- De 2012 a 2014 y de 2017 a 2018 los niveles de emisión crecieron de forma estadísticamente significativa.\n",
    "- En el periodo de 2011 a 2018 se han incrementado las emisiones un 21% de forma estadisticamente significativa.\n",
    "\n",
    "## Análisis de $NO_{2}$\n",
    "\n",
    "En esta sección, se analizan los resultados para $NO_{2}$. Siguiendo los pasos señalados, lo primero consisten en obtener los resúmenes estadísticos:"
   ]
  },
  {
   "cell_type": "code",
   "execution_count": 71,
   "metadata": {},
   "outputs": [
    {
     "name": "stdout",
     "output_type": "stream",
     "text": [
      "count    67439.000000\n",
      "mean        37.831685\n",
      "std         19.085459\n",
      "min          1.000000\n",
      "25%         23.000000\n",
      "50%         35.000000\n",
      "75%         50.000000\n",
      "max         95.000000\n",
      "Name: Medida, dtype: float64\n"
     ]
    }
   ],
   "source": [
    "# Vamos a calcular los resumenes estadísticos para NO2:\n",
    "\n",
    "t = datos[datos[\"Magnitud\"] == lista[3]]\n",
    "\n",
    "print(t[\"Medida\"].describe())"
   ]
  },
  {
   "cell_type": "markdown",
   "metadata": {},
   "source": [
    "De manera análoga a los gases anteriormente comentados, se puede ver que la desviación estándar es la mitad del valor medio, lo que nos indica una alta variabilidad en la muestra, que puede deberse a mucho factores, como una significativa evolución temporal. Del mismo modo que los otros gases, la media y la mediana presentan valores similares, lo que apunta a un reparto relativamente balanceado de los valores a ambos lados de la media."
   ]
  },
  {
   "cell_type": "code",
   "execution_count": 77,
   "metadata": {},
   "outputs": [
    {
     "data": {
      "image/png": "[encoded data removed]",
      "text/plain": [
       "<Figure size 720x360 with 1 Axes>"
      ]
     },
     "metadata": {
      "needs_background": "light"
     },
     "output_type": "display_data"
    }
   ],
   "source": [
    "# Seleccionamos las columnas años y medidas para graficar:\n",
    "\n",
    "t.boxplot(column = \"Medida\", by = \"Año\", figsize = (10,5), \n",
    "          grid = False, showmeans = True, showfliers = False)\n",
    "plt.title(\"Evolución de las emisiones de $NO_{2}$\",fontweight=\"bold\")\n",
    "plt.suptitle(\"\")\n",
    "plt.show()"
   ]
  },
  {
   "cell_type": "markdown",
   "metadata": {},
   "source": [
    "De forma similar a las partículas y diferente al Ozono, el $NO_{2}$ presenta una clara tendencia a la baja muy acusada en los primeros años (2011-2013) y luego relativamente plana hasta 2017-2018, donde parece volver a bajar. Es de notar que, a diferencia de los casos anteriores, donde la media y la mediana casi siempre coincidían, en este caso la media siempre se encuentra ligeramente por encima de la mediana. Podemos comprobar si los cambios que hemos señalado anteriormente parecen ser significativos estadísticamente o no. Para esto resulta interesante determinar la normalidad de los datos y también la homogeneidad de las varianzas.\n",
    "\n",
    "Para la nomalización, se podría llevar a cabo un test de Saphiro. Sin embargo, debido a que son registros diarios de 24 estaciones y los estamos agrupando por años, podemos asumir que cada grupo tiene más de 30 registros y, por el teorema del límite central, podemos aproximarlo por una distribución normal.\n",
    "\n",
    "En cuanto a la homogeneidad de las varianzas, podemos verificarla con el test de Fligner:"
   ]
  },
  {
   "cell_type": "code",
   "execution_count": 73,
   "metadata": {},
   "outputs": [
    {
     "name": "stdout",
     "output_type": "stream",
     "text": [
      "FlignerResult(statistic=438.12229461280276, pvalue=1.5767091550299298e-90)\n"
     ]
    }
   ],
   "source": [
    "# Verificamos la homogeneidad de las varianzas:\n",
    "\n",
    "res = stats.fligner(t[t[\"Año\"]==2011][\"Medida\"],t[t[\"Año\"]==2012][\"Medida\"],\n",
    "                    t[t[\"Año\"]==2013][\"Medida\"]\n",
    "                   ,t[t[\"Año\"]==2014][\"Medida\"],t[t[\"Año\"]==2015][\"Medida\"],\n",
    "                    t[t[\"Año\"]==2016][\"Medida\"]\n",
    "                   ,t[t[\"Año\"]==2017][\"Medida\"],t[t[\"Año\"]==2018][\"Medida\"])\n",
    "\n",
    "print (res)"
   ]
  },
  {
   "cell_type": "markdown",
   "metadata": {},
   "source": [
    "Y nos da como resultado que no hay homogeneidad en las varianzas, un resultado que hay que tener en cuenta a la hora de realizar los test estadísticos que se realizan a continuación:"
   ]
  },
  {
   "cell_type": "code",
   "execution_count": 74,
   "metadata": {},
   "outputs": [
    {
     "name": "stdout",
     "output_type": "stream",
     "text": [
      "\n",
      " P valor para 2011-2012:  1.6584576006646066e-70\n",
      "\n",
      " P valor para 2012-2013:  7.164457958215856e-47\n",
      "\n",
      " P valor para 2013-2014:  0.7521493510256927\n",
      "\n",
      " P valor para 2014-2015:  1.0974408700349393e-66\n",
      "\n",
      " P valor para 2015-2016:  0.001037853581351742\n",
      "\n",
      " P valor para 2016-2017:  0.00011127810577187848\n",
      "\n",
      " P valor para 2017-2018:  4.7403984582886865e-89\n",
      "\n",
      " P valor para 2011-2018:  9.41508705682301e-205\n",
      "\n",
      "El cambio en las emisiones en el periodo ha sido del : -0.26528792216275643\n"
     ]
    }
   ],
   "source": [
    "# Comparamos año a año y los dos extremos (2011 y 2018)\n",
    "\n",
    "# 2011-2012\n",
    "print (\"\\n P valor para 2011-2012: \", \n",
    "       stats.ttest_ind(t[t[\"Año\"]==2011][\"Medida\"],\n",
    "                       t[t[\"Año\"]==2012][\"Medida\"],equal_var = False).pvalue)\n",
    "\n",
    "# 2012-2013\n",
    "print (\"\\n P valor para 2012-2013: \", \n",
    "       stats.ttest_ind(t[t[\"Año\"]==2012][\"Medida\"],\n",
    "                       t[t[\"Año\"]==2013][\"Medida\"],equal_var = False).pvalue)\n",
    "\n",
    "# 2013-2014\n",
    "print (\"\\n P valor para 2013-2014: \", \n",
    "       stats.ttest_ind(t[t[\"Año\"]==2013][\"Medida\"],\n",
    "                       t[t[\"Año\"]==2014][\"Medida\"],equal_var = False).pvalue)\n",
    "\n",
    "# 2014-2015\n",
    "print (\"\\n P valor para 2014-2015: \", \n",
    "       stats.ttest_ind(t[t[\"Año\"]==2014][\"Medida\"],\n",
    "                       t[t[\"Año\"]==2015][\"Medida\"],equal_var = False).pvalue)\n",
    "\n",
    "# 2015-2016\n",
    "print (\"\\n P valor para 2015-2016: \", \n",
    "       stats.ttest_ind(t[t[\"Año\"]==2015][\"Medida\"],\n",
    "                       t[t[\"Año\"]==2016][\"Medida\"],equal_var = False).pvalue)\n",
    "\n",
    "# 2016-2017\n",
    "print (\"\\n P valor para 2016-2017: \", \n",
    "       stats.ttest_ind(t[t[\"Año\"]==2015][\"Medida\"],\n",
    "                       t[t[\"Año\"]==2017][\"Medida\"],equal_var = False).pvalue)\n",
    "\n",
    "# 2017-2018\n",
    "print (\"\\n P valor para 2017-2018: \", \n",
    "       stats.ttest_ind(t[t[\"Año\"]==2017][\"Medida\"],\n",
    "                       t[t[\"Año\"]==2018][\"Medida\"],equal_var = False).pvalue)\n",
    "\n",
    "# 2011-2018\n",
    "print (\"\\n P valor para 2011-2018: \", \n",
    "       stats.ttest_ind(t[t[\"Año\"]==2011][\"Medida\"],\n",
    "                       t[t[\"Año\"]==2018][\"Medida\"],equal_var = False).pvalue)\n",
    "\n",
    "# Reducción de las emisiones en el periodo:\n",
    "\n",
    "print (\"\\nEl cambio en las emisiones en el periodo ha sido del :\",\n",
    "       (1-(np.mean(t[t[\"Año\"]==2011][\"Medida\"])/np.mean(t[t[\"Año\"]==2018][\"Medida\"]))))"
   ]
  },
  {
   "cell_type": "markdown",
   "metadata": {},
   "source": [
    "Una vez realizados los t-test y comparándolos con la gráfica anterior, podemos llegar a las siguientes conclusiones:\n",
    "\n",
    "- De 2011 a 2013 y de 2015 a 2016 y de 2017 a 2018 las emisiones de $NO_{2}$ han visto una reducción estadísticamente significativa.\n",
    "- De 2013 a 2014 los niveles de emisión no han presentado cambios significativos.\n",
    "- De 2014 a 2015 y de 2016 a 2017 los niveles de emisión crecieron de forma estadísticamente significativa.\n",
    "- En el periodo de 2011 a 2018 se han reducido las emisiones un 27% de forma estadisticamente significativa.\n",
    "\n",
    "## Análisis de $SO_{2}$\n",
    "\n",
    "En esta sección, se analizan los resultados para $SO_{2}$. Siguiendo los pasos señalados, lo primero consisten en obtener los resúmenes estadísticos:"
   ]
  },
  {
   "cell_type": "code",
   "execution_count": 78,
   "metadata": {},
   "outputs": [
    {
     "name": "stdout",
     "output_type": "stream",
     "text": [
      "count    27325.000000\n",
      "mean         5.454346\n",
      "std          3.179500\n",
      "min          1.000000\n",
      "25%          3.000000\n",
      "50%          5.000000\n",
      "75%          7.000000\n",
      "max         15.000000\n",
      "Name: Medida, dtype: float64\n"
     ]
    }
   ],
   "source": [
    "# Vamos a calcular los resumenes estadísticos para SO2:\n",
    "\n",
    "t = datos[datos[\"Magnitud\"] == lista[4]]\n",
    "\n",
    "print(t[\"Medida\"].describe())"
   ]
  },
  {
   "cell_type": "markdown",
   "metadata": {},
   "source": [
    "De manera análoga a los gases anteriormente comentados, se puede ver que la desviación estándar es la mitad del valor medio, lo que nos indica una alta variabilidad en la muestra, que puede deberse a mucho factores, como una significativa evolución temporal. Del mismo modo que los otros gases, la media y la mediana presentan valores similares, lo que apunta a un reparto relativamente balanceado de los valores a ambos lados de la media."
   ]
  },
  {
   "cell_type": "code",
   "execution_count": 79,
   "metadata": {},
   "outputs": [
    {
     "data": {
      "image/png": "[encoded data removed]",
      "text/plain": [
       "<Figure size 720x360 with 1 Axes>"
      ]
     },
     "metadata": {
      "needs_background": "light"
     },
     "output_type": "display_data"
    }
   ],
   "source": [
    "# Seleccionamos las columnas años y medidas para graficar:\n",
    "\n",
    "t.boxplot(column = \"Medida\", by = \"Año\", figsize = (10,5), \n",
    "          grid = False, showmeans = True, showfliers = False)\n",
    "plt.title(\"Evolución de las emisiones de $SO_{2}$\",fontweight=\"bold\")\n",
    "plt.suptitle(\"\")\n",
    "plt.show()"
   ]
  },
  {
   "cell_type": "markdown",
   "metadata": {},
   "source": [
    "En base a la gráfica anterior, el comportamiento del $SO_{2}$ es más parecido al del Ozono, salvo por la aparente tendencia  a la baja de los dos últimos años. Este también es el caso en el que la media y la mediana se encuentran mas separadas, dando a entender que los valores por encima de la mediana se encuentran mas espaciados y la distribución es menos simétrica respecto a la mediana. Se observan descensos grandes entre 2011 y 2012 y 2017 y 2018 y un crecimiento sostenido de las emisiones desde 2012 a 2016. No obstante, se determinará cuales de estos crecimientos son significativos estadísticamente y cuales no lo son. Para ello, un paso previo razonable es del de comprobar la normalidad y la homogeneidad de la varianza.\n",
    "Para la nomalización, se podría llevar a cabo un test de Saphiro. Sin embargo, debido a que son registros diarios de 24 estaciones y los estamos agrupando por años, podemos asumir que cada grupo tiene más de 30 registros y, por el teorema del límite central, podemos aproximarlo por una distribución normal.\n",
    "\n",
    "En cuanto a la homogeneidad de las varianzas, podemos verificarla con el test de Fligner:\n"
   ]
  },
  {
   "cell_type": "code",
   "execution_count": 80,
   "metadata": {},
   "outputs": [
    {
     "name": "stdout",
     "output_type": "stream",
     "text": [
      "FlignerResult(statistic=1696.0618425992504, pvalue=0.0)\n"
     ]
    }
   ],
   "source": [
    "# Verificamos la homogeneidad de las varianzas:\n",
    "\n",
    "res = stats.fligner(t[t[\"Año\"]==2011][\"Medida\"],t[t[\"Año\"]==2012][\"Medida\"],\n",
    "                    t[t[\"Año\"]==2013][\"Medida\"]\n",
    "                   ,t[t[\"Año\"]==2014][\"Medida\"],t[t[\"Año\"]==2015][\"Medida\"],\n",
    "                    t[t[\"Año\"]==2016][\"Medida\"]\n",
    "                   ,t[t[\"Año\"]==2017][\"Medida\"],t[t[\"Año\"]==2018][\"Medida\"])\n",
    "\n",
    "print (res)"
   ]
  },
  {
   "cell_type": "markdown",
   "metadata": {},
   "source": [
    "Y nos da como resultado que no hay homogeneidad en las varianzas, un resultado que hay que tener en cuenta a la hora de realizar los test estadísticos que se realizan a continuación:"
   ]
  },
  {
   "cell_type": "code",
   "execution_count": 81,
   "metadata": {},
   "outputs": [
    {
     "name": "stdout",
     "output_type": "stream",
     "text": [
      "\n",
      " P valor para 2011-2012:  2.5125664950312604e-278\n",
      "\n",
      " P valor para 2012-2013:  7.971211709386303e-05\n",
      "\n",
      " P valor para 2013-2014:  3.0274488326841947e-34\n",
      "\n",
      " P valor para 2014-2015:  1.1993301179620307e-81\n",
      "\n",
      " P valor para 2015-2016:  0.0004404095625782917\n",
      "\n",
      " P valor para 2016-2017:  0.1995240009135321\n",
      "\n",
      " P valor para 2017-2018:  6.883669538585356e-37\n",
      "\n",
      " P valor para 2011-2018:  3.849077088488397e-70\n",
      "\n",
      "El cambio en las emisiones en el periodo ha sido del : -0.22752936511298394\n"
     ]
    }
   ],
   "source": [
    "# Comparamos año a año y los dos extremos (2011 y 2018)\n",
    "\n",
    "# 2011-2012\n",
    "print (\"\\n P valor para 2011-2012: \", \n",
    "       stats.ttest_ind(t[t[\"Año\"]==2011][\"Medida\"],\n",
    "                       t[t[\"Año\"]==2012][\"Medida\"],equal_var = False).pvalue)\n",
    "\n",
    "# 2012-2013\n",
    "print (\"\\n P valor para 2012-2013: \", \n",
    "       stats.ttest_ind(t[t[\"Año\"]==2012][\"Medida\"],\n",
    "                       t[t[\"Año\"]==2013][\"Medida\"],equal_var = False).pvalue)\n",
    "\n",
    "# 2013-2014\n",
    "print (\"\\n P valor para 2013-2014: \", \n",
    "       stats.ttest_ind(t[t[\"Año\"]==2013][\"Medida\"],\n",
    "                       t[t[\"Año\"]==2014][\"Medida\"],equal_var = False).pvalue)\n",
    "\n",
    "# 2014-2015\n",
    "print (\"\\n P valor para 2014-2015: \", \n",
    "       stats.ttest_ind(t[t[\"Año\"]==2014][\"Medida\"],\n",
    "                       t[t[\"Año\"]==2015][\"Medida\"],equal_var = False).pvalue)\n",
    "\n",
    "# 2015-2016\n",
    "print (\"\\n P valor para 2015-2016: \", \n",
    "       stats.ttest_ind(t[t[\"Año\"]==2015][\"Medida\"],\n",
    "                       t[t[\"Año\"]==2016][\"Medida\"],equal_var = False).pvalue)\n",
    "\n",
    "# 2016-2017\n",
    "print (\"\\n P valor para 2016-2017: \", \n",
    "       stats.ttest_ind(t[t[\"Año\"]==2015][\"Medida\"],\n",
    "                       t[t[\"Año\"]==2017][\"Medida\"],equal_var = False).pvalue)\n",
    "\n",
    "# 2017-2018\n",
    "print (\"\\n P valor para 2017-2018: \", \n",
    "       stats.ttest_ind(t[t[\"Año\"]==2017][\"Medida\"],\n",
    "                       t[t[\"Año\"]==2018][\"Medida\"],equal_var = False).pvalue)\n",
    "\n",
    "# 2011-2018\n",
    "print (\"\\n P valor para 2011-2018: \", \n",
    "       stats.ttest_ind(t[t[\"Año\"]==2011][\"Medida\"],\n",
    "                       t[t[\"Año\"]==2018][\"Medida\"],equal_var = False).pvalue)\n",
    "\n",
    "# Reducción de las emisiones en el periodo:\n",
    "\n",
    "print (\"\\nEl cambio en las emisiones en el periodo ha sido del :\",\n",
    "       (1-(np.mean(t[t[\"Año\"]==2011][\"Medida\"])/np.mean(t[t[\"Año\"]==2018][\"Medida\"]))))"
   ]
  },
  {
   "cell_type": "markdown",
   "metadata": {},
   "source": [
    "Una vez realizados los t-test y comparándolos con la gráfica anterior, podemos llegar a las siguientes conclusiones:\n",
    "\n",
    "- De 2011 a 2012 y de 2017 a 2018 las emisiones de $SO_{2}$ han visto una reducción estadísticamente significativa.\n",
    "- De 2016 a 2017 los niveles de emisión no han presentado cambios significativos.\n",
    "- De 2012 a 2016 los niveles de emisión crecieron de forma estadísticamente significativa.\n",
    "- En el periodo de 2011 a 2018 se han reducido las emisiones un 23% de forma estadisticamente significativa.\n",
    "\n",
    "\n",
    "# Conclusiones y descarga de los datos \"limpios\"\n",
    "\n",
    "\n",
    "A lo largo de la práctica se han realizado las siguientes tareas:\n",
    "\n",
    "- Integración de datos de diferentes documentos en un mismo Dataset, uniformando la estructura.\n",
    "- Corregido los errores subsanables y eliminado los registros con errores no subsanables.\n",
    "- Analizado los valores extremos presentes en los datos y determinado su eliminación.\n",
    "- Analizado si los cambios anuales en las emisiones son estadísticamente significativos y evaluar la tendencia que dichas emisiones han realizado.\n",
    "\n",
    "A raiz de estas tareas, en particular la información obtenida a partir del análisis de la evolución de las emisiones de los cinco gases considerados se puede llegar a la conclusión de que las emisiones de cuatro de los cinco gases se redujeron de forma significativa en todo el periodo, mientras que las emisiones de Ozono crecieron de forma estadísticamente significativa durante el periodo. Del mismo modo, la tendencia en todos los gases suele ser bastante suave, sin cambios grandes en las emisiones, lo que en muchos casos deja variaciones no significativas estadísticamente entre varios años. Sin embargo, tanto el aumento de las emisiones de Ozono como del descenso de los demás gases vienen muy influido por descensos localizados en determinados años: \n",
    "\n",
    "- Entre 2011 y 2013 es un periodo con cambios significativos\n",
    "- Entre 2017 y 2018 también hay cambios significativos\n",
    "- El resto de los años, no presentan cambios significativos o si son significativos, son muy suaves.\n",
    "\n",
    "Finalmente, además de llevar a cabo el análisis, se exporta el fichero de los datos analizados en formato csv:"
   ]
  },
  {
   "cell_type": "code",
   "execution_count": 33,
   "metadata": {},
   "outputs": [],
   "source": [
    "# Se exportan los datos en un fichero csv:\n",
    "\n",
    "datos.to_csv(\".\\datos_procesados\\datos_procesados.csv\", index = False)"
   ]
  },
  {
   "cell_type": "markdown",
   "metadata": {},
   "source": [
    "# Fuentes utilizadas\n",
    "\n",
    "- Madrid.es. (2017). Plan de Calidad del Aire y Cambio climático. [online] Available at: https://www.madrid.es/UnidadesDescentralizadas/Sostenibilidad/CalidadAire/Ficheros/PlanAireyCC_092017.pdf [Accessed 2 Jan. 2019].\n",
    "\n",
    "\n",
    "- MuniMadrid. (2009). Plan de Calidad del Aire Madrid 2011-2015. [online] Available at: http://www.mambiente.munimadrid.es/opencms/export/sites/default/calaire/Anexos/Plan_2011_15.pdf [Accessed 1 Jan. 2019].\n",
    "\n",
    "- Datos.madrid.es. (2018). Calidad del aire. Datos diarios años 2001 a 2018 - Portal de datos abiertos del Ayuntamiento de Madrid. [online] Available at: https://datos.madrid.es/portal/site/egob/menuitem.c05c1f754a33a9fbe4b2e4b284f1a5a0/?vgnextoid=aecb88a7e2b73410VgnVCM2000000c205a0aRCRD&vgnextchannel=374512b9ace9f310VgnVCM100000171f5a0aRCRD&vgnextfmt=default [Accessed 3 Jan. 2019].\n",
    "\n",
    "- WHO. (2018). Ambient (outdoor) air quality and health. [online] Available at: https://www.who.int/news-room/fact-sheets/detail/ambient-(outdoor)-air-quality-and-health [Accessed 2 Jan. 2019].\n",
    "\n",
    "\n",
    "- Matplotlib.org. (n.d.). Matplotlib: Python plotting — Matplotlib 3.0.2 documentation. [online] Available at: https://matplotlib.org/index.html [Accessed 5 Jan. 2019].\n",
    "\n",
    "- Pandas.pydata.org. (n.d.). Python Data Analysis Library — pandas: Python Data Analysis Library. [online] Available at: https://pandas.pydata.org/ [Accessed 5 Jan. 2019].\n",
    "\n",
    "- Rovira, C. (2008). Contraste de hipótesis. Material UOC."
   ]
  }
 ],
 "metadata": {
  "kernelspec": {
   "display_name": "Python 3",
   "language": "python",
   "name": "python3"
  },
  "language_info": {
   "codemirror_mode": {
    "name": "ipython",
    "version": 3
   },
   "file_extension": ".py",
   "mimetype": "text/x-python",
   "name": "python",
   "nbconvert_exporter": "python",
   "pygments_lexer": "ipython3",
   "version": "3.7.1rc1"
  }
 },
 "nbformat": 4,
 "nbformat_minor": 2
}
